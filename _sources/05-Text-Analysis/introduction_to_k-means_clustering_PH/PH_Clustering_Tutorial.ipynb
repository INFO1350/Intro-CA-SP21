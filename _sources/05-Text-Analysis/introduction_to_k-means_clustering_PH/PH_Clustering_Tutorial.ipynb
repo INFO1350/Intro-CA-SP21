{
 "cells": [
  {
   "cell_type": "markdown",
   "metadata": {},
   "source": [
    "# Unsupervised Learning and K-Means Clustering with Python\n",
    "**A tutorial by Thomas Jurczyk, CERES (Bochum)**\n",
    "\n",
    "This notebook includes the code used in my clustering tutorial for the [Programming Historian](https://programminghistorian.org/). Please note that you need to save the dataset `DNP_authors.csv` in the same folder as this Jupyter notebook. The dataset is available in my [GitHub repository](https://github.com/thomjur/introduction_to_k-means_clustering_PH).\n",
    "\n",
    "If you have any questions or comments, please send them to [my email address](mailto:thomas.jurczyk-q88@rub.de).\n",
    "<br>\n",
    "<br>\n",
    "---"
   ]
  },
  {
   "cell_type": "markdown",
   "metadata": {},
   "source": [
    "## 1. Loading dataset & exploratory data analysis"
   ]
  },
  {
   "cell_type": "code",
   "execution_count": 1,
   "metadata": {},
   "outputs": [
    {
     "name": "stdout",
     "output_type": "stream",
     "text": [
      "<class 'pandas.core.frame.DataFrame'>\n",
      "Index: 1611 entries, Eder, Walter (Berlin) to Stausberg, Michael\n",
      "Data columns (total 3 columns):\n",
      " #   Column      Non-Null Count  Dtype \n",
      "---  ------      --------------  ----- \n",
      " 0   word_count  1611 non-null   int64 \n",
      " 1   articles    1611 non-null   int64 \n",
      " 2   based_in    1611 non-null   object\n",
      "dtypes: int64(2), object(1)\n",
      "memory usage: 50.3+ KB\n",
      "None\n",
      "                                              word_count  articles  \\\n",
      "Eder, Walter (Berlin)                             171026       141   \n",
      "Dietz, Karlheinz (Würzburg)                        39484       107   \n",
      "Ego, Beate (Osnabrück)                             46068        91   \n",
      "Manganaro, Giacomo (Sant' Agata li Battiata)        7867        49   \n",
      "Daverio Rocchi, Giovanna (Milan)                   25977        56   \n",
      "\n",
      "                                                             based_in  \n",
      "Eder, Walter (Berlin)                                          Berlin  \n",
      "Dietz, Karlheinz (Würzburg)                                  Würzburg  \n",
      "Ego, Beate (Osnabrück)                                      Osnabrück  \n",
      "Manganaro, Giacomo (Sant' Agata li Battiata)  Sant' Agata li Battiata  \n",
      "Daverio Rocchi, Giovanna (Milan)                                Milan  \n"
     ]
    }
   ],
   "source": [
    "import pandas as pd\n",
    "\n",
    "# load the dataset that has been stored as .csv files in the same folder\n",
    "# using the author names as index\n",
    "df_authors = pd.read_csv(\"DNP_authors.csv\", index_col=0)\n",
    "\n",
    "# display dataset structure with the pandas .info() method\n",
    "print(df_authors.info())\n",
    "\n",
    "# show first 5 rows\n",
    "print(df_authors.head(5))"
   ]
  },
  {
   "cell_type": "code",
   "execution_count": 2,
   "metadata": {},
   "outputs": [
    {
     "data": {
      "text/html": [
       "<div>\n",
       "<style scoped>\n",
       "    .dataframe tbody tr th:only-of-type {\n",
       "        vertical-align: middle;\n",
       "    }\n",
       "\n",
       "    .dataframe tbody tr th {\n",
       "        vertical-align: top;\n",
       "    }\n",
       "\n",
       "    .dataframe thead th {\n",
       "        text-align: right;\n",
       "    }\n",
       "</style>\n",
       "<table border=\"1\" class=\"dataframe\">\n",
       "  <thead>\n",
       "    <tr style=\"text-align: right;\">\n",
       "      <th></th>\n",
       "      <th>word_count</th>\n",
       "      <th>articles</th>\n",
       "    </tr>\n",
       "  </thead>\n",
       "  <tbody>\n",
       "    <tr>\n",
       "      <th>count</th>\n",
       "      <td>1611.000000</td>\n",
       "      <td>1611.000000</td>\n",
       "    </tr>\n",
       "    <tr>\n",
       "      <th>mean</th>\n",
       "      <td>12773.718187</td>\n",
       "      <td>13.015518</td>\n",
       "    </tr>\n",
       "    <tr>\n",
       "      <th>std</th>\n",
       "      <td>26277.073866</td>\n",
       "      <td>36.859652</td>\n",
       "    </tr>\n",
       "    <tr>\n",
       "      <th>min</th>\n",
       "      <td>12.000000</td>\n",
       "      <td>1.000000</td>\n",
       "    </tr>\n",
       "    <tr>\n",
       "      <th>25%</th>\n",
       "      <td>1745.000000</td>\n",
       "      <td>1.000000</td>\n",
       "    </tr>\n",
       "    <tr>\n",
       "      <th>50%</th>\n",
       "      <td>4429.000000</td>\n",
       "      <td>2.000000</td>\n",
       "    </tr>\n",
       "    <tr>\n",
       "      <th>75%</th>\n",
       "      <td>12209.500000</td>\n",
       "      <td>8.000000</td>\n",
       "    </tr>\n",
       "    <tr>\n",
       "      <th>max</th>\n",
       "      <td>433508.000000</td>\n",
       "      <td>557.000000</td>\n",
       "    </tr>\n",
       "  </tbody>\n",
       "</table>\n",
       "</div>"
      ],
      "text/plain": [
       "          word_count     articles\n",
       "count    1611.000000  1611.000000\n",
       "mean    12773.718187    13.015518\n",
       "std     26277.073866    36.859652\n",
       "min        12.000000     1.000000\n",
       "25%      1745.000000     1.000000\n",
       "50%      4429.000000     2.000000\n",
       "75%     12209.500000     8.000000\n",
       "max    433508.000000   557.000000"
      ]
     },
     "execution_count": 2,
     "metadata": {},
     "output_type": "execute_result"
    }
   ],
   "source": [
    "df_authors.describe()"
   ]
  },
  {
   "cell_type": "markdown",
   "metadata": {},
   "source": [
    "## 2. Initializing k-means & scaler"
   ]
  },
  {
   "cell_type": "code",
   "execution_count": 3,
   "metadata": {},
   "outputs": [],
   "source": [
    "# clustering part\n",
    "from sklearn.preprocessing import StandardScaler as SS\n",
    "from sklearn.cluster import KMeans\n",
    "\n",
    "# plotting libraries\n",
    "import matplotlib.pyplot as plt\n",
    "import seaborn as sns"
   ]
  },
  {
   "cell_type": "code",
   "execution_count": 4,
   "metadata": {},
   "outputs": [],
   "source": [
    "# initializing k-means and scaler"
   ]
  },
  {
   "cell_type": "code",
   "execution_count": 5,
   "metadata": {},
   "outputs": [],
   "source": [
    "scaler = SS()\n",
    "kmeans = KMeans(n_clusters=3, random_state=42)"
   ]
  },
  {
   "cell_type": "markdown",
   "metadata": {},
   "source": [
    "## 3. Applying k-means clustering on the dataset"
   ]
  },
  {
   "cell_type": "code",
   "execution_count": 6,
   "metadata": {},
   "outputs": [
    {
     "data": {
      "text/html": [
       "<div>\n",
       "<style scoped>\n",
       "    .dataframe tbody tr th:only-of-type {\n",
       "        vertical-align: middle;\n",
       "    }\n",
       "\n",
       "    .dataframe tbody tr th {\n",
       "        vertical-align: top;\n",
       "    }\n",
       "\n",
       "    .dataframe thead th {\n",
       "        text-align: right;\n",
       "    }\n",
       "</style>\n",
       "<table border=\"1\" class=\"dataframe\">\n",
       "  <thead>\n",
       "    <tr style=\"text-align: right;\">\n",
       "      <th></th>\n",
       "      <th>word_count</th>\n",
       "      <th>articles</th>\n",
       "      <th>based_in</th>\n",
       "      <th>wc_scaled</th>\n",
       "      <th>articles_scaled</th>\n",
       "    </tr>\n",
       "  </thead>\n",
       "  <tbody>\n",
       "    <tr>\n",
       "      <th>Eder, Walter (Berlin)</th>\n",
       "      <td>171026</td>\n",
       "      <td>141</td>\n",
       "      <td>Berlin</td>\n",
       "      <td>6.024317</td>\n",
       "      <td>3.473289</td>\n",
       "    </tr>\n",
       "    <tr>\n",
       "      <th>Dietz, Karlheinz (Würzburg)</th>\n",
       "      <td>39484</td>\n",
       "      <td>107</td>\n",
       "      <td>Würzburg</td>\n",
       "      <td>1.016802</td>\n",
       "      <td>2.550585</td>\n",
       "    </tr>\n",
       "    <tr>\n",
       "      <th>Ego, Beate (Osnabrück)</th>\n",
       "      <td>46068</td>\n",
       "      <td>91</td>\n",
       "      <td>Osnabrück</td>\n",
       "      <td>1.267440</td>\n",
       "      <td>2.116371</td>\n",
       "    </tr>\n",
       "    <tr>\n",
       "      <th>Manganaro, Giacomo (Sant' Agata li Battiata)</th>\n",
       "      <td>7867</td>\n",
       "      <td>49</td>\n",
       "      <td>Sant' Agata li Battiata</td>\n",
       "      <td>-0.186788</td>\n",
       "      <td>0.976560</td>\n",
       "    </tr>\n",
       "    <tr>\n",
       "      <th>Daverio Rocchi, Giovanna (Milan)</th>\n",
       "      <td>25977</td>\n",
       "      <td>56</td>\n",
       "      <td>Milan</td>\n",
       "      <td>0.502620</td>\n",
       "      <td>1.166528</td>\n",
       "    </tr>\n",
       "  </tbody>\n",
       "</table>\n",
       "</div>"
      ],
      "text/plain": [
       "                                              word_count  articles  \\\n",
       "Eder, Walter (Berlin)                             171026       141   \n",
       "Dietz, Karlheinz (Würzburg)                        39484       107   \n",
       "Ego, Beate (Osnabrück)                             46068        91   \n",
       "Manganaro, Giacomo (Sant' Agata li Battiata)        7867        49   \n",
       "Daverio Rocchi, Giovanna (Milan)                   25977        56   \n",
       "\n",
       "                                                             based_in  \\\n",
       "Eder, Walter (Berlin)                                          Berlin   \n",
       "Dietz, Karlheinz (Würzburg)                                  Würzburg   \n",
       "Ego, Beate (Osnabrück)                                      Osnabrück   \n",
       "Manganaro, Giacomo (Sant' Agata li Battiata)  Sant' Agata li Battiata   \n",
       "Daverio Rocchi, Giovanna (Milan)                                Milan   \n",
       "\n",
       "                                              wc_scaled  articles_scaled  \n",
       "Eder, Walter (Berlin)                          6.024317         3.473289  \n",
       "Dietz, Karlheinz (Würzburg)                    1.016802         2.550585  \n",
       "Ego, Beate (Osnabrück)                         1.267440         2.116371  \n",
       "Manganaro, Giacomo (Sant' Agata li Battiata)  -0.186788         0.976560  \n",
       "Daverio Rocchi, Giovanna (Milan)               0.502620         1.166528  "
      ]
     },
     "execution_count": 6,
     "metadata": {},
     "output_type": "execute_result"
    }
   ],
   "source": [
    "# scale the \"word_count\" and \"articles\" columns of df_authors\n",
    "df_authors_cp = df_authors.copy()\n",
    "scaled_columns = scaler.fit_transform(df_authors_cp[[\"word_count\", \"articles\"]])\n",
    "df_authors_cp[\"wc_scaled\"] = scaled_columns[:,0]\n",
    "df_authors_cp[\"articles_scaled\"] = scaled_columns[:,1]\n",
    "df_authors_cp.head(5)"
   ]
  },
  {
   "cell_type": "code",
   "execution_count": 7,
   "metadata": {},
   "outputs": [],
   "source": [
    "# clustering df_authors_cp\n",
    "kmeans.fit(df_authors_cp[[\"wc_scaled\", \"articles_scaled\"]])\n",
    "df_authors_cp[\"clusters\"] = kmeans.labels_"
   ]
  },
  {
   "cell_type": "markdown",
   "metadata": {},
   "source": [
    "## 4. Plotting the cluster with seaborn"
   ]
  },
  {
   "cell_type": "code",
   "execution_count": 8,
   "metadata": {},
   "outputs": [
    {
     "data": {
      "text/plain": [
       "<matplotlib.axes._subplots.AxesSubplot at 0x7f9ee5980210>"
      ]
     },
     "execution_count": 8,
     "metadata": {},
     "output_type": "execute_result"
    },
    {
     "data": {
      "image/png": "[encoded data removed]",
      "text/plain": [
       "<Figure size 432x288 with 1 Axes>"
      ]
     },
     "metadata": {
      "needs_background": "light"
     },
     "output_type": "display_data"
    }
   ],
   "source": [
    "sns.scatterplot(x=\"articles\", y=\"word_count\", hue=\"clusters\", data=df_authors_cp)"
   ]
  },
  {
   "cell_type": "code",
   "execution_count": 9,
   "metadata": {},
   "outputs": [
    {
     "data": {
      "text/html": [
       "<div>\n",
       "<style scoped>\n",
       "    .dataframe tbody tr th:only-of-type {\n",
       "        vertical-align: middle;\n",
       "    }\n",
       "\n",
       "    .dataframe tbody tr th {\n",
       "        vertical-align: top;\n",
       "    }\n",
       "\n",
       "    .dataframe thead th {\n",
       "        text-align: right;\n",
       "    }\n",
       "</style>\n",
       "<table border=\"1\" class=\"dataframe\">\n",
       "  <thead>\n",
       "    <tr style=\"text-align: right;\">\n",
       "      <th></th>\n",
       "      <th>word_count</th>\n",
       "      <th>articles</th>\n",
       "      <th>based_in</th>\n",
       "      <th>wc_scaled</th>\n",
       "      <th>articles_scaled</th>\n",
       "      <th>clusters</th>\n",
       "    </tr>\n",
       "  </thead>\n",
       "  <tbody>\n",
       "    <tr>\n",
       "      <th>Graf, Fritz (Columbus, OH)</th>\n",
       "      <td>207226</td>\n",
       "      <td>365</td>\n",
       "      <td>Columbus, OH</td>\n",
       "      <td>7.402371</td>\n",
       "      <td>9.552282</td>\n",
       "      <td>2</td>\n",
       "    </tr>\n",
       "    <tr>\n",
       "      <th>Elvers, Karl-Ludwig (Bochum)</th>\n",
       "      <td>433508</td>\n",
       "      <td>498</td>\n",
       "      <td>Bochum</td>\n",
       "      <td>16.016430</td>\n",
       "      <td>13.161684</td>\n",
       "      <td>2</td>\n",
       "    </tr>\n",
       "    <tr>\n",
       "      <th>Hünemörder, Christian (Hamburg)</th>\n",
       "      <td>139941</td>\n",
       "      <td>430</td>\n",
       "      <td>Hamburg</td>\n",
       "      <td>4.840979</td>\n",
       "      <td>11.316275</td>\n",
       "      <td>2</td>\n",
       "    </tr>\n",
       "    <tr>\n",
       "      <th>Eck, Werner (Cologne)</th>\n",
       "      <td>386495</td>\n",
       "      <td>557</td>\n",
       "      <td>Cologne</td>\n",
       "      <td>14.226749</td>\n",
       "      <td>14.762847</td>\n",
       "      <td>2</td>\n",
       "    </tr>\n",
       "    <tr>\n",
       "      <th>Olshausen, Eckart (Stuttgart)</th>\n",
       "      <td>155039</td>\n",
       "      <td>296</td>\n",
       "      <td>Stuttgart</td>\n",
       "      <td>5.415727</td>\n",
       "      <td>7.679735</td>\n",
       "      <td>2</td>\n",
       "    </tr>\n",
       "    <tr>\n",
       "      <th>Ameling, Walter (Jena)</th>\n",
       "      <td>217367</td>\n",
       "      <td>218</td>\n",
       "      <td>Jena</td>\n",
       "      <td>7.788417</td>\n",
       "      <td>5.562943</td>\n",
       "      <td>2</td>\n",
       "    </tr>\n",
       "  </tbody>\n",
       "</table>\n",
       "</div>"
      ],
      "text/plain": [
       "                                 word_count  articles      based_in  \\\n",
       "Graf, Fritz (Columbus, OH)           207226       365  Columbus, OH   \n",
       "Elvers, Karl-Ludwig (Bochum)         433508       498        Bochum   \n",
       "Hünemörder, Christian (Hamburg)      139941       430       Hamburg   \n",
       "Eck, Werner (Cologne)                386495       557       Cologne   \n",
       "Olshausen, Eckart (Stuttgart)        155039       296     Stuttgart   \n",
       "Ameling, Walter (Jena)               217367       218          Jena   \n",
       "\n",
       "                                 wc_scaled  articles_scaled  clusters  \n",
       "Graf, Fritz (Columbus, OH)        7.402371         9.552282         2  \n",
       "Elvers, Karl-Ludwig (Bochum)     16.016430        13.161684         2  \n",
       "Hünemörder, Christian (Hamburg)   4.840979        11.316275         2  \n",
       "Eck, Werner (Cologne)            14.226749        14.762847         2  \n",
       "Olshausen, Eckart (Stuttgart)     5.415727         7.679735         2  \n",
       "Ameling, Walter (Jena)            7.788417         5.562943         2  "
      ]
     },
     "execution_count": 9,
     "metadata": {},
     "output_type": "execute_result"
    }
   ],
   "source": [
    "df_authors_cp[df_authors_cp[\"clusters\"] == 2]"
   ]
  },
  {
   "cell_type": "markdown",
   "metadata": {},
   "source": [
    "## 5. Applying the \"elbow method\" (hyperparameter tuning)"
   ]
  },
  {
   "cell_type": "code",
   "execution_count": 10,
   "metadata": {},
   "outputs": [
    {
     "data": {
      "text/plain": [
       "[<matplotlib.axis.XTick at 0x7f9ee5bb9350>,\n",
       " <matplotlib.axis.XTick at 0x7f9ee5bb9310>,\n",
       " <matplotlib.axis.XTick at 0x7f9ee5bc1e90>,\n",
       " <matplotlib.axis.XTick at 0x7f9ee5be38d0>,\n",
       " <matplotlib.axis.XTick at 0x7f9ee5be3710>]"
      ]
     },
     "execution_count": 10,
     "metadata": {},
     "output_type": "execute_result"
    },
    {
     "data": {
      "image/png": "[encoded data removed]",
      "text/plain": [
       "<Figure size 504x504 with 1 Axes>"
      ]
     },
     "metadata": {
      "needs_background": "light"
     },
     "output_type": "display_data"
    }
   ],
   "source": [
    "# elbow method\n",
    "# preparing data for plotting\n",
    "cluster_range = list(range(2,7))\n",
    "inertia_list = []\n",
    "\n",
    "for k in cluster_range:\n",
    "    kmeans = KMeans(n_clusters=k, random_state=42)\n",
    "    kmeans.fit(df_authors_cp[[\"wc_scaled\", \"articles_scaled\"]])\n",
    "    inertia_list.append(kmeans.inertia_)\n",
    "\n",
    "# plotting\n",
    "fig = plt.figure(figsize=(7,7))\n",
    "ax = fig.add_subplot(111)\n",
    "sns.lineplot(y=inertia_list, x=cluster_range, ax=ax)\n",
    "ax.set_xlabel(\"Clusters\")\n",
    "ax.set_ylabel(\"Inertia\")\n",
    "ax.set_xticks([2,3,4,5,6])"
   ]
  },
  {
   "cell_type": "code",
   "execution_count": 11,
   "metadata": {},
   "outputs": [],
   "source": [
    "# k-means with 4 clusters\n",
    "kmeans = KMeans(n_clusters=4, random_state=42)\n",
    "kmeans.fit(df_authors_cp[[\"wc_scaled\", \"articles_scaled\"]])\n",
    "\n",
    "df_authors_cp[\"clusters_2\"] = kmeans.labels_"
   ]
  },
  {
   "cell_type": "markdown",
   "metadata": {},
   "source": [
    "## 6. Plotting the final clusters"
   ]
  },
  {
   "cell_type": "code",
   "execution_count": 12,
   "metadata": {},
   "outputs": [
    {
     "data": {
      "image/png": "[encoded data removed]",
      "text/plain": [
       "<Figure size 432x288 with 1 Axes>"
      ]
     },
     "metadata": {
      "needs_background": "light"
     },
     "output_type": "display_data"
    }
   ],
   "source": [
    "sns.scatterplot(x=\"word_count\", y=\"articles\", hue=\"clusters_2\", data=df_authors_cp)\n",
    "plt.savefig(\"results_2\")"
   ]
  }
 ],
 "metadata": {
  "kernelspec": {
   "display_name": "Python 3",
   "language": "python",
   "name": "python3"
  },
  "language_info": {
   "codemirror_mode": {
    "name": "ipython",
    "version": 3
   },
   "file_extension": ".py",
   "mimetype": "text/x-python",
   "name": "python",
   "nbconvert_exporter": "python",
   "pygments_lexer": "ipython3",
   "version": "3.7.6"
  }
 },
 "nbformat": 4,
 "nbformat_minor": 4
}
