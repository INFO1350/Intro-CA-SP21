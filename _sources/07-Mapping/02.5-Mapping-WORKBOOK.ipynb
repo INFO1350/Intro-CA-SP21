{
 "cells": [
  {
   "cell_type": "markdown",
   "metadata": {},
   "source": [
    "# Mapping Part 2 — Workbook"
   ]
  },
  {
   "cell_type": "markdown",
   "metadata": {},
   "source": [
    "In this lesson, we're going to learn how to analyze and visualize geographic data."
   ]
  },
  {
   "cell_type": "markdown",
   "metadata": {},
   "source": [
    "*Note: You can explore this [workbook](https://mybinder.org/v2/gh/INFO1350/Intro-CA-SP21/master?urlpath=lab/tree/book/07-Mapping/02.5-Mapping-WORKBOOK.ipynb) in the cloud via Binder.*"
   ]
  },
  {
   "cell_type": "markdown",
   "metadata": {},
   "source": [
    "## Torn Apart / Separados"
   ]
  },
  {
   "cell_type": "markdown",
   "metadata": {},
   "source": [
    "### Read in Data"
   ]
  },
  {
   "cell_type": "markdown",
   "metadata": {},
   "source": [
    "The data in this section was drawn from [Torn Apart / Separados Project](https://github.com/xpmethod/torn-apart-open-data). It maps the locations of Immigration and Customs Enforcement (ICE) detention facilities, as featured in [Volume 1](http://xpmethod.plaintext.in/torn-apart/volume/1/)."
   ]
  },
  {
   "cell_type": "code",
   "execution_count": null,
   "metadata": {},
   "outputs": [],
   "source": [
    "import pandas as pd\n",
    "pd.options.display.max_rows = 100\n",
    "pd.options.display.max_columns = 100"
   ]
  },
  {
   "cell_type": "markdown",
   "metadata": {},
   "source": [
    "You can find this data on GitHub: https://github.com/xpmethod/torn-apart-open-data/blob/master/iceFacs.csv"
   ]
  },
  {
   "cell_type": "code",
   "execution_count": null,
   "metadata": {
    "scrolled": true,
    "tags": [
     "output_scroll"
    ]
   },
   "outputs": [],
   "source": [
    "fac_df = pd.read_csv(\"../data/ICE-facilities.csv\")\n",
    "# Drop any blank lat, lon coordinates\n",
    "fac_df = fac_df.dropna(subset=['lat', 'lon'])\n",
    "fac_df"
   ]
  },
  {
   "cell_type": "markdown",
   "metadata": {},
   "source": [
    "### Import Folium"
   ]
  },
  {
   "cell_type": "code",
   "execution_count": null,
   "metadata": {
    "tags": [
     "output_scroll"
    ]
   },
   "outputs": [],
   "source": [
    "!pip install folium"
   ]
  },
  {
   "cell_type": "code",
   "execution_count": null,
   "metadata": {},
   "outputs": [],
   "source": [
    "import folium"
   ]
  },
  {
   "cell_type": "markdown",
   "metadata": {},
   "source": [
    "Let's establish a base map"
   ]
  },
  {
   "cell_type": "code",
   "execution_count": null,
   "metadata": {},
   "outputs": [],
   "source": [
    "US_map = folium.Map(location=[42, -102], zoom_start=4)\n",
    "US_map"
   ]
  },
  {
   "cell_type": "markdown",
   "metadata": {},
   "source": [
    "### Add a Circle Marker"
   ]
  },
  {
   "cell_type": "markdown",
   "metadata": {},
   "source": [
    "There are a few [different kinds of markers](https://python-visualization.github.io/folium/quickstart.html#Markers) that we can add to a Folium map, including circles. To make a circle, we can call `folium.CircleMarker()` with a particular radius and the option to fill in the circle.\n",
    "\n",
    "You can explore more customization options in the [Folium documentation](https://python-visualization.github.io/folium/modules.html#folium.vector_layers.CircleMarker). We're also going to add a hover `tooltip`."
   ]
  },
  {
   "cell_type": "code",
   "execution_count": null,
   "metadata": {},
   "outputs": [],
   "source": [
    "# Establish base map\n",
    "US_map = folium.Map(location=[42, -102], zoom_start=4)\n",
    "\n",
    "# Loop through rows in the Pandas DataFrame\n",
    "for index, row in fac_df.iterrows():\n",
    "    \n",
    "    # Make a caption\n",
    "    caption_info = f\"\"\"{row['Name']} <br>\n",
    "                    {row['City']}, {row['State']}\"\"\" \n",
    "    \n",
    "    folium.CircleMarker(\n",
    "                # Latitude, longitude for each marker\n",
    "                location=[row['lat'], row['lon']],\n",
    "        \n",
    "                # Size, fill, color of the circle marker\n",
    "                radius = 10, fill = True, color='orange',\n",
    "        \n",
    "                # Text that goes into the popup or tooltip\n",
    "                tooltip = caption_info \n",
    "                  \n",
    "                 ).add_to(US_map)\n",
    "\n",
    "US_map"
   ]
  },
  {
   "cell_type": "markdown",
   "metadata": {},
   "source": [
    "## Your Turn!"
   ]
  },
  {
   "cell_type": "markdown",
   "metadata": {},
   "source": [
    "- What is this map showing us about ICE (U.S Immigration and Customs Enforcement) that words alone or even a DataFrame couldn't capture?\n",
    "- What other information might be important to have in the popup or tooltip?\n",
    "- What other design choices would you make to improve this map? What consequences could these decisions have in the world? "
   ]
  },
  {
   "cell_type": "markdown",
   "metadata": {},
   "source": [
    "Pick at least one other category from the DataFrame and include it in the popup or toolip. You can review the existing columns in the DataFrame below."
   ]
  },
  {
   "cell_type": "code",
   "execution_count": null,
   "metadata": {},
   "outputs": [],
   "source": [
    "fac_df.columns"
   ]
  },
  {
   "cell_type": "code",
   "execution_count": null,
   "metadata": {},
   "outputs": [],
   "source": [
    "fac_df.sample(5)"
   ]
  },
  {
   "cell_type": "markdown",
   "metadata": {},
   "source": [
    "Add another category to the tooltip/popup"
   ]
  },
  {
   "cell_type": "code",
   "execution_count": null,
   "metadata": {},
   "outputs": [],
   "source": [
    "# Establish base map\n",
    "US_map = folium.Map(location=[42, -102], zoom_start=4)\n",
    "\n",
    "# Loop through rows in the Pandas DataFrame\n",
    "for index, row in fac_df.iterrows():\n",
    "    \n",
    "    # Make a caption -- <br> is HTML for a line break\n",
    "    caption_info = f\"\"\"{row['Name']} <br>\n",
    "                    {row['City']}, {row['State']} <br>\n",
    "                    More info here: \"\"\" \n",
    "                    # ☝️ Add another category into the caption above and/or alter the design! ☝️\n",
    "\n",
    "    folium.CircleMarker(\n",
    "                # Latitude, longitude for each marker\n",
    "                location=[row['lat'], row['lon']],\n",
    "        \n",
    "                # Size, fill, color of the circle marker\n",
    "                radius = 10, fill = True, color='orange',\n",
    "        \n",
    "                # Text that goes into the popup or tooltip\n",
    "                tooltip = caption_info \n",
    "                  \n",
    "                 ).add_to(US_map)\n",
    "\n",
    "US_map"
   ]
  },
  {
   "cell_type": "markdown",
   "metadata": {},
   "source": [
    "Save the map as an HTML file"
   ]
  },
  {
   "cell_type": "code",
   "execution_count": null,
   "metadata": {},
   "outputs": [],
   "source": [
    "US_map.save(\"ICE-map.html\")"
   ]
  },
  {
   "cell_type": "markdown",
   "metadata": {},
   "source": [
    "## Choropleth Maps"
   ]
  },
  {
   "cell_type": "markdown",
   "metadata": {},
   "source": [
    "Choropleth map = a map where areas are shaded according to a value"
   ]
  },
  {
   "cell_type": "markdown",
   "metadata": {},
   "source": [
    "The data in this section was drawn from [Torn Apart / Separados Project](https://github.com/xpmethod/torn-apart-open-data). This data maps the \"cumulative ICE awards since 2014 to contractors by congressional district,\" as featured in [Volume 2](http://xpmethod.plaintext.in/torn-apart/volume/2/)."
   ]
  },
  {
   "cell_type": "markdown",
   "metadata": {},
   "source": [
    "To create a chropleth map with Folium, we need to pair a \"geo.json\" file (which indicates which parts of the map to shade) with a CSV file (which includes the variable that we want to shade by)."
   ]
  },
  {
   "cell_type": "markdown",
   "metadata": {},
   "source": [
    "The following data was drawn from [the Torn Apart / Separados project](https://github.com/xpmethod/torn-apart/tree/master/data/districts)"
   ]
  },
  {
   "cell_type": "markdown",
   "metadata": {},
   "source": [
    "First, we will examine the geoJSON file. To learn more about geoJSON, you can explore here: https://geojson.io/#map=13/42.4349/-76.5028"
   ]
  },
  {
   "cell_type": "code",
   "execution_count": null,
   "metadata": {
    "scrolled": true
   },
   "outputs": [],
   "source": [
    "geojson_df = pd.read_json(\"../data/ICE_money_districts.geo.json\")"
   ]
  },
  {
   "cell_type": "code",
   "execution_count": null,
   "metadata": {
    "scrolled": true
   },
   "outputs": [],
   "source": [
    "geojson_df['features'][0]"
   ]
  },
  {
   "cell_type": "code",
   "execution_count": null,
   "metadata": {},
   "outputs": [],
   "source": [
    "districts_df = pd.read_csv(\"../data/ICE_money_districts.csv\")\n",
    "districts_df = districts_df.dropna(subset=['districtName', 'representative'])\n",
    "districts_df"
   ]
  },
  {
   "cell_type": "markdown",
   "metadata": {},
   "source": [
    "## Your Turn!"
   ]
  },
  {
   "cell_type": "markdown",
   "metadata": {},
   "source": [
    "Run the following cells and inspect the maps. Then answer the discussion questions at the bottom."
   ]
  },
  {
   "cell_type": "markdown",
   "metadata": {},
   "source": [
    "Here we are creating a choropleth map by pairing geoJSON data and a Pandas DataFrame."
   ]
  },
  {
   "cell_type": "code",
   "execution_count": null,
   "metadata": {},
   "outputs": [],
   "source": [
    "US_map = folium.Map(location=[42, -102], zoom_start=4)\n",
    "\n",
    "choro_map = folium.Choropleth(\n",
    "    # Geojson data\n",
    "    geo_data = \"../data/ICE_money_districts.geo.json\",\n",
    "    # DataFrame data\n",
    "    data = districts_df,\n",
    "    # Columns to include from DataFrame\n",
    "    columns = ['districtName', 'total_awards'],\n",
    "    # Shared category from geojson\n",
    "    key_on = 'feature.properties.districtName',\n",
    "    # Color palette\n",
    "    fill_color = 'GnBu',\n",
    "    line_opacity = 0.2,\n",
    "    legend_name= 'Total ICE Money Received'\n",
    ").add_to(US_map)\n",
    "\n",
    "US_map"
   ]
  },
  {
   "cell_type": "markdown",
   "metadata": {},
   "source": [
    "### Add a Tooltip to Choropleth"
   ]
  },
  {
   "cell_type": "code",
   "execution_count": null,
   "metadata": {},
   "outputs": [],
   "source": [
    "tooltip = folium.features.GeoJson(\n",
    "    \"../data/ICE_money_districts.geo.json\",\n",
    "    tooltip=folium.features.GeoJsonTooltip(\n",
    "        fields=['representative',\n",
    "                'state',\n",
    "                'party', \n",
    "                'total_value', \n",
    "                'profiteer'],\n",
    "                localize=True))\n",
    "US_map.add_child(tooltip)\n",
    "US_map"
   ]
  },
  {
   "cell_type": "markdown",
   "metadata": {},
   "source": [
    "## Discussion"
   ]
  },
  {
   "cell_type": "markdown",
   "metadata": {},
   "source": [
    "To see how our map compares to the Torn Apart / Separados map, you can explore here: http://xpmethod.columbia.edu/torn-apart/volume/2/"
   ]
  },
  {
   "cell_type": "markdown",
   "metadata": {},
   "source": [
    "- What does this map (or the Torn Apart/Separados map) show us about ICE that is different from the previous map?\n",
    "- How do the design and tooltip choices of this map influence the argument being made?"
   ]
  }
 ],
 "metadata": {
  "kernelspec": {
   "display_name": "Python 3",
   "language": "python",
   "name": "python3"
  },
  "language_info": {
   "codemirror_mode": {
    "name": "ipython",
    "version": 3
   },
   "file_extension": ".py",
   "mimetype": "text/x-python",
   "name": "python",
   "nbconvert_exporter": "python",
   "pygments_lexer": "ipython3",
   "version": "3.7.6"
  }
 },
 "nbformat": 4,
 "nbformat_minor": 4
}
