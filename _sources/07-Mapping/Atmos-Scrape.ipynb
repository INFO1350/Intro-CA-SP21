{
 "cells": [
  {
   "cell_type": "markdown",
   "metadata": {},
   "source": [
    "# \"Hi, We're Called Atmosphere!\""
   ]
  },
  {
   "cell_type": "markdown",
   "metadata": {},
   "source": [
    "**First scrape the lyrics**"
   ]
  },
  {
   "cell_type": "code",
   "execution_count": 1,
   "metadata": {},
   "outputs": [],
   "source": [
    "import api_key"
   ]
  },
  {
   "cell_type": "code",
   "execution_count": 2,
   "metadata": {},
   "outputs": [],
   "source": [
    "client_access_token = api_key.your_client_access_token"
   ]
  },
  {
   "cell_type": "code",
   "execution_count": 3,
   "metadata": {},
   "outputs": [],
   "source": [
    "from bs4 import BeautifulSoup\n",
    "import re\n",
    "import lyricsgenius\n",
    "LyricsGenius = lyricsgenius.Genius(client_access_token)\n",
    "import requests\n",
    "import os\n",
    "from pathlib import Path\n",
    "import glob"
   ]
  },
  {
   "cell_type": "markdown",
   "metadata": {},
   "source": [
    "**RegEx Function to Clean Songs**"
   ]
  },
  {
   "cell_type": "code",
   "execution_count": 166,
   "metadata": {},
   "outputs": [],
   "source": [
    "def clean_up(song_title):\n",
    "\n",
    "    if \"Ft\" in song_title:\n",
    "        before_ft_pattern = re.compile(\".*(?=\\(Ft)\")\n",
    "        song_title_before_ft = before_ft_pattern.search(song_title).group(0)\n",
    "        clean_song_title = song_title_before_ft.strip()\n",
    "        clean_song_title = clean_song_title.replace(\"/\", \"-\")\n",
    "    \n",
    "    else:\n",
    "        song_title_no_lyrics = song_title.replace(\"Lyrics\", \"\")\n",
    "        clean_song_title = song_title_no_lyrics.strip()\n",
    "        clean_song_title = clean_song_title.replace(\"/\", \"-\")\n",
    "    \n",
    "    return clean_song_title"
   ]
  },
  {
   "cell_type": "code",
   "execution_count": 167,
   "metadata": {},
   "outputs": [],
   "source": [
    "def clean_album(album):\n",
    "    album = album.replace(\" \", \"-\")\n",
    "    album = album.replace(\":\", \"\")\n",
    "    album = album.replace(\"(\", \"-\")\n",
    "    album = album.replace(\")\", \"\")\n",
    "    album = album.replace(\"'\", \"-\")\n",
    "    album = album.replace(\",\", \"\")\n",
    "    return album"
   ]
  },
  {
   "cell_type": "code",
   "execution_count": 162,
   "metadata": {},
   "outputs": [
    {
     "data": {
      "text/plain": [
       "'To-All-My-Friends-Blood-Makes-the-Blade-Holy-The-Atmosphere-Eps'"
      ]
     },
     "execution_count": 162,
     "metadata": {},
     "output_type": "execute_result"
    }
   ],
   "source": [
    "clean_album('To All My Friends, Blood Makes the Blade Holy: The Atmosphere Eps')"
   ]
  },
  {
   "cell_type": "markdown",
   "metadata": {},
   "source": [
    "**Make Function to Scrape Song Titles for Album**"
   ]
  },
  {
   "cell_type": "code",
   "execution_count": 164,
   "metadata": {},
   "outputs": [],
   "source": [
    "def get_all_songs_from_album(artist, album):\n",
    "    \n",
    "    artist = artist.replace(\" \", \"-\")\n",
    "    album = clean_album(album)\n",
    "    \n",
    "    response = requests.get(f\"https://genius.com/albums/{artist}/{album}\")\n",
    "    html_string = response.text\n",
    "    document = BeautifulSoup(html_string, \"html.parser\")\n",
    "    song_title_tags = document.find_all(\"h3\", attrs={\"class\": \"chart_row-content-title\"})\n",
    "    song_titles = [song_title.text for song_title in song_title_tags]\n",
    "    \n",
    "    clean_songs = []\n",
    "    for song_title in song_titles:\n",
    "        clean_song = clean_up(song_title)\n",
    "        clean_songs.append(clean_song)\n",
    "        \n",
    "    return clean_songs"
   ]
  },
  {
   "cell_type": "code",
   "execution_count": 168,
   "metadata": {},
   "outputs": [
    {
     "data": {
      "text/plain": [
       "['Bde Maka Ska',\n",
       " 'Push Play',\n",
       " 'Postal Lady',\n",
       " 'Love Each Other',\n",
       " 'Romance',\n",
       " 'Dearly Beloved',\n",
       " 'The Hands of Time',\n",
       " 'Whenever',\n",
       " 'Lovely',\n",
       " 'Son of Abyss',\n",
       " \"You're Gonna Go\",\n",
       " 'The Ceiling']"
      ]
     },
     "execution_count": 168,
     "metadata": {},
     "output_type": "execute_result"
    }
   ],
   "source": [
    "get_all_songs_from_album(\"Atmosphere\", 'Whenever')"
   ]
  },
  {
   "cell_type": "markdown",
   "metadata": {},
   "source": [
    "**Make Function to Download Lyrics For All Songs in Album**"
   ]
  },
  {
   "cell_type": "code",
   "execution_count": null,
   "metadata": {},
   "outputs": [],
   "source": [
    "def download_album_lyrics(artist, album): \n",
    "    \n",
    "    # Set up LyricsGenius with your Genius API client access token\n",
    "    LyricsGenius = lyricsgenius.Genius(client_access_token)\n",
    "    LyricsGenius.remove_section_headers = True\n",
    "    \n",
    "    # With the function that we previously created, go to Genius.com and get all song titles for a particular artist's album\n",
    "    clean_songs = get_all_songs_from_album(artist, album)\n",
    "    \n",
    "    for song in clean_songs:\n",
    "        \n",
    "        #For each song in the list, search for that song with LyricsGenius\n",
    "        song_object = LyricsGenius.search_song(song, artist)\n",
    "        \n",
    "        #If the song is not empty\n",
    "        if song_object != None:\n",
    "            \n",
    "            #Do some cleaning and prep for the filename of the song\n",
    "            artist_title = artist.replace(\" \", \"-\")\n",
    "            album_title = clean_album(album)\n",
    "            song_title = song.replace(\"/\", \"-\")\n",
    "            song_title = song.replace(\" \", \"-\")\n",
    "            \n",
    "            #Establish the filename for each song inside a directory that begins with the artist's name and album title\n",
    "            #added the ../ to move it out of the notebooks folder because maybe that will work\n",
    "            filename=f\"../All/{artist_title}-{album_title}/{song_title}\"\n",
    "            \n",
    "            #A line of code that we need to create a directory\n",
    "             #os.makedirs(os.path.dirname(filename), exist_ok=True)\n",
    "            Path(f\"../All/{artist_title}-{album_title}\").mkdir(parents=True, exist_ok=True)\n",
    "            \n",
    "            #Save the lyrics for the song as a text file\n",
    "            song_object.save_lyrics(filename=filename, extension='txt', sanitize = False)\n",
    "            #uncomment below if you want to check if things are matching up\n",
    "            #title= f\"{filename}.txt\"\n",
    "            #print(title)\n",
    "        #If the song doesn't contain lyrics\n",
    "        else:\n",
    "            print('No lyrics')"
   ]
  },
  {
   "cell_type": "code",
   "execution_count": null,
   "metadata": {},
   "outputs": [],
   "source": [
    "download_album_lyrics('Atmosphere', 'Whenever')"
   ]
  },
  {
   "cell_type": "markdown",
   "metadata": {},
   "source": [
    "**Use glob to combine all lyrics for an album into one**"
   ]
  },
  {
   "cell_type": "code",
   "execution_count": null,
   "metadata": {},
   "outputs": [],
   "source": [
    "def glob_songs(artist, album):\n",
    "    artist = artist.replace(\" \", \"-\")\n",
    "    album = clean_album(album)\n",
    "    #running the download function\n",
    "    download_album_lyrics(artist, album)\n",
    "    \n",
    "    directory = f\"../All/{artist}-{album}/\"\n",
    "    #print(directory)\n",
    "    files = glob.glob(f\"{directory}/*.txt\")\n",
    "    return files"
   ]
  },
  {
   "cell_type": "markdown",
   "metadata": {},
   "source": [
    "**Now that the songs are globed, combine them into one text file for the whole album**"
   ]
  },
  {
   "cell_type": "code",
   "execution_count": null,
   "metadata": {},
   "outputs": [],
   "source": [
    "def create_one_album_file(artist, album):\n",
    "    #clean up the inputs\n",
    "    artist = artist.replace(\" \", \"-\")\n",
    "    album = clean_album(album)\n",
    "    #use the glob function we made\n",
    "    files = glob_songs(artist, album)\n",
    "    \n",
    "    #create a master directory for the artist\n",
    "    Path(f\"../{artist}\").mkdir(parents=True, exist_ok=True)\n",
    "    \n",
    "    with open(f\"../{artist}/{album}.txt\", \"wb\") as outfile:\n",
    "        for file in files:\n",
    "            with open(file, \"rb\") as infile:\n",
    "                outfile.write(infile.read())"
   ]
  },
  {
   "cell_type": "code",
   "execution_count": null,
   "metadata": {},
   "outputs": [],
   "source": [
    "create_one_album_file('Atmosphere', 'Whenever')"
   ]
  },
  {
   "cell_type": "code",
   "execution_count": null,
   "metadata": {},
   "outputs": [],
   "source": [
    "create_one_album_file('Atmosphere', 'Mi Vida Local')"
   ]
  },
  {
   "cell_type": "code",
   "execution_count": null,
   "metadata": {},
   "outputs": [],
   "source": [
    "create_one_album_file('Atmosphere', 'Fishing Blues')"
   ]
  },
  {
   "cell_type": "code",
   "execution_count": null,
   "metadata": {},
   "outputs": [],
   "source": [
    "create_one_album_file('Atmosphere', 'Frida Kahlo vs Ezra Pound')"
   ]
  },
  {
   "cell_type": "code",
   "execution_count": null,
   "metadata": {},
   "outputs": [],
   "source": [
    "create_one_album_file('Atmosphere', 'Southsiders')"
   ]
  },
  {
   "cell_type": "code",
   "execution_count": null,
   "metadata": {},
   "outputs": [],
   "source": [
    "create_one_album_file('Atmosphere', 'The Family Sign')"
   ]
  },
  {
   "cell_type": "code",
   "execution_count": null,
   "metadata": {},
   "outputs": [],
   "source": [
    "create_one_album_file('Atmosphere', 'To All My Friends, Blood Makes the Blade Holy: The Atmosphere Eps')"
   ]
  },
  {
   "cell_type": "code",
   "execution_count": null,
   "metadata": {},
   "outputs": [],
   "source": [
    "create_one_album_file('Atmosphere', 'When Life Gives You Lemons, You Paint That Shit Gold')"
   ]
  },
  {
   "cell_type": "code",
   "execution_count": null,
   "metadata": {},
   "outputs": [],
   "source": [
    "create_one_album_file('Atmosphere', \"You Can't Imagine How Much Fun We're Having\")"
   ]
  },
  {
   "cell_type": "code",
   "execution_count": null,
   "metadata": {},
   "outputs": [],
   "source": [
    "create_one_album_file('Atmosphere', 'Headshots: Se7en')"
   ]
  },
  {
   "cell_type": "code",
   "execution_count": null,
   "metadata": {},
   "outputs": [],
   "source": [
    "create_one_album_file('Atmosphere', \"Seven's Travels\")"
   ]
  },
  {
   "cell_type": "code",
   "execution_count": null,
   "metadata": {},
   "outputs": [],
   "source": [
    "create_one_album_file('Atmosphere', \"God Loves Ugly\")"
   ]
  },
  {
   "cell_type": "code",
   "execution_count": null,
   "metadata": {},
   "outputs": [],
   "source": [
    "create_one_album_file('Atmosphere', \"Lucy Ford: The Atmosphere EP's\")"
   ]
  },
  {
   "cell_type": "code",
   "execution_count": null,
   "metadata": {},
   "outputs": [],
   "source": [
    "create_one_album_file('Atmosphere', \"Overcast\")"
   ]
  },
  {
   "cell_type": "markdown",
   "metadata": {},
   "source": [
    "**Special code Sad Clown Bad Year:**"
   ]
  },
  {
   "cell_type": "code",
   "execution_count": null,
   "metadata": {},
   "outputs": [],
   "source": [
    "#This is to download the four Sad Clown Bad Dub Albums (#9-12) that are included on Sad Clown Bad Year\n",
    "def download_sad_clown(artist, album): \n",
    "    \n",
    "    # Set up LyricsGenius with your Genius API client access token\n",
    "    LyricsGenius = lyricsgenius.Genius(client_access_token)\n",
    "    LyricsGenius.remove_section_headers = True\n",
    "    \n",
    "    # With the function that we previously created, go to Genius.com and get all song titles for a particular artist's album\n",
    "    clean_songs = get_all_songs_from_album(artist, album)\n",
    "    \n",
    "    for song in clean_songs:\n",
    "        \n",
    "        #For each song in the list, search for that song with LyricsGenius\n",
    "        song_object = LyricsGenius.search_song(song, artist)\n",
    "        \n",
    "        #If the song is not empty\n",
    "        if song_object != None:\n",
    "            \n",
    "            #Do some cleaning and prep for the filename of the song\n",
    "            artist_title = artist.replace(\" \", \"-\")\n",
    "            album_title = clean_album(album)\n",
    "            song_title = song.replace(\"/\", \"-\")\n",
    "            song_title = song.replace(\" \", \"-\")\n",
    "            \n",
    "            #Establish the filename for each song inside a directory that begins with the artist's name and album title\n",
    "            #added the ../ to move it out of the notebooks folder because maybe that will work\n",
    "            filename=f\"../All/{artist_title}-Sad-Clown-Bad-Year/{song_title}\"\n",
    "            \n",
    "            #A line of code that we need to create a directory\n",
    "             #os.makedirs(os.path.dirname(filename), exist_ok=True)\n",
    "            Path(f\"../All/{artist_title}-Sad-Clown-Bad-Year\").mkdir(parents=True, exist_ok=True)\n",
    "            \n",
    "            #Save the lyrics for the song as a text file\n",
    "            song_object.save_lyrics(filename=filename, extension='txt', sanitize = False)\n",
    "            #uncomment below if you want to check if things are matching up\n",
    "            #title= f\"{filename}.txt\"\n",
    "            #print(title)\n",
    "        #If the song doesn't contain lyrics\n",
    "        else:\n",
    "            print('No lyrics')"
   ]
  },
  {
   "cell_type": "code",
   "execution_count": null,
   "metadata": {},
   "outputs": [],
   "source": [
    "download_sad_clown('Atmosphere', \"Sad Clown Bad Summer 9\")"
   ]
  },
  {
   "cell_type": "code",
   "execution_count": null,
   "metadata": {},
   "outputs": [],
   "source": [
    "download_sad_clown('Atmosphere', 'Sad Clown Bad Fall 10')"
   ]
  },
  {
   "cell_type": "code",
   "execution_count": null,
   "metadata": {},
   "outputs": [],
   "source": [
    "download_sad_clown('Atmosphere', 'Sad Clown Bad Winter 11')"
   ]
  },
  {
   "cell_type": "code",
   "execution_count": null,
   "metadata": {},
   "outputs": [],
   "source": [
    "download_sad_clown('Atmosphere', 'Sad Clown Bad Spring 12')"
   ]
  },
  {
   "cell_type": "code",
   "execution_count": null,
   "metadata": {},
   "outputs": [],
   "source": [
    "#only run this after running download_sad_clown for all four dubs\n",
    "def glob_sad_clown(artist):\n",
    "    directory = f\"../All/{artist}-Sad-Clown-Bad-Year/\"\n",
    "    #print(directory)\n",
    "    files = glob.glob(f\"{directory}/*.txt\")\n",
    "    return files"
   ]
  },
  {
   "cell_type": "code",
   "execution_count": null,
   "metadata": {},
   "outputs": [],
   "source": [
    "#this is the same as create_one_album_file but made specifically for Sad Clown Bad Dubs\n",
    "#make sure you have all files into Sad-Clown-Bad-Year first!\n",
    "def create_sad_clown(artist, album):\n",
    "    #clean up the inputs\n",
    "    artist = artist.replace(\" \", \"-\")\n",
    "    album = clean_album(album)\n",
    "    #use the glob function we made\n",
    "    files = glob_sad_clown(artist)\n",
    "    \n",
    "    #create a master directory for the artist\n",
    "    Path(f\"../{artist}\").mkdir(parents=True, exist_ok=True)\n",
    "    \n",
    "    with open(f\"../{artist}/{album}.txt\", \"wb\") as outfile:\n",
    "        for file in files:\n",
    "            with open(file, \"rb\") as infile:\n",
    "                outfile.write(infile.read())"
   ]
  },
  {
   "cell_type": "code",
   "execution_count": null,
   "metadata": {},
   "outputs": [],
   "source": [
    "create_sad_clown('Atmosphere', 'Sad Clown Bad Year')"
   ]
  }
 ],
 "metadata": {
  "kernelspec": {
   "display_name": "Python 3",
   "language": "python",
   "name": "python3"
  },
  "language_info": {
   "codemirror_mode": {
    "name": "ipython",
    "version": 3
   },
   "file_extension": ".py",
   "mimetype": "text/x-python",
   "name": "python",
   "nbconvert_exporter": "python",
   "pygments_lexer": "ipython3",
   "version": "3.7.6"
  }
 },
 "nbformat": 4,
 "nbformat_minor": 4
}
