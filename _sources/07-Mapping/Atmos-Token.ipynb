{
 "cells": [
  {
   "cell_type": "markdown",
   "metadata": {},
   "source": [
    "# Atmosphere Token Analysis"
   ]
  },
  {
   "cell_type": "code",
   "execution_count": 1,
   "metadata": {},
   "outputs": [],
   "source": [
    "import pandas as pd\n",
    "pd.options.display.float_format =lambda value : '{:.0f}'.format(value) if round(value,0) == value else '{:,.2f}'.format(value)\n",
    "import matplotlib.pyplot as plt\n",
    "from nltk.corpus import stopwords\n",
    "import nltk\n",
    "import matplotlib.colors as mcolors"
   ]
  },
  {
   "cell_type": "code",
   "execution_count": 2,
   "metadata": {},
   "outputs": [],
   "source": [
    "import glob\n",
    "from pathlib import Path"
   ]
  },
  {
   "cell_type": "code",
   "execution_count": 3,
   "metadata": {},
   "outputs": [],
   "source": [
    "def clean_album(album):\n",
    "    album = album.replace(\" \", \"-\")\n",
    "    album = album.replace(\":\", \"\")\n",
    "    album = album.replace(\"(\", \"-\")\n",
    "    album = album.replace(\")\", \"\")\n",
    "    album = album.replace(\"'\", \"-\")\n",
    "    album = album.replace(\",\", \"\")\n",
    "    return album"
   ]
  },
  {
   "cell_type": "markdown",
   "metadata": {},
   "source": [
    "**Lexical Richness** http://www.nltk.org/book/ch01.html#len-set"
   ]
  },
  {
   "cell_type": "code",
   "execution_count": 4,
   "metadata": {},
   "outputs": [],
   "source": [
    "#this code I used to check my actual one for the specific albums\n",
    "def lex_rich(album):\n",
    "    album = clean_album(album)\n",
    "    filepath = f\"../Atmosphere/{album}.txt\"\n",
    "    #this will get us a list of all the words (including repeats)\n",
    "    file = open(filepath, \"r\").read().split()\n",
    "   \n",
    "    #get the length of file (which has been split into words)\n",
    "    all_words = len(file)\n",
    "    \n",
    "    #get the word count without repeats\n",
    "    unique_words = len(set(file))\n",
    "    \n",
    "    #calculate the Lexical Richness: unique/total\n",
    "    lexR = (unique_words / all_words) * 100 \n",
    "    return lexR, album\n",
    "        "
   ]
  },
  {
   "cell_type": "code",
   "execution_count": 5,
   "metadata": {},
   "outputs": [
    {
     "data": {
      "text/plain": [
       "(27.79639380883995, 'Overcast')"
      ]
     },
     "execution_count": 5,
     "metadata": {},
     "output_type": "execute_result"
    }
   ],
   "source": [
    "lex_rich(\"Overcast\")"
   ]
  },
  {
   "cell_type": "code",
   "execution_count": 6,
   "metadata": {},
   "outputs": [],
   "source": [
    "def get_unique(artist):\n",
    "    directory = f\"../{artist}\"\n",
    "    filepaths = glob.glob(f\"{directory}/*.txt\")\n",
    "    \n",
    "    lex_list = []\n",
    "    for file in filepaths:\n",
    "        album = open(file, \"r\").read().split()\n",
    "        total_words = len(album)\n",
    "        unique_words = len(set(album))\n",
    "        #calculate the Lexical Richness as percent: unique/total\n",
    "        lexR = (unique_words / total_words) * 100 \n",
    "        lex_list.append(lexR)\n",
    "    return lex_list"
   ]
  },
  {
   "cell_type": "code",
   "execution_count": 7,
   "metadata": {},
   "outputs": [],
   "source": [
    "def album_names(artist):\n",
    "    directory = f\"../{artist}\"\n",
    "    filepaths = glob.glob(f\"{directory}/*.txt\")\n",
    "    #this will be a list of the albums to label our df\n",
    "    album_titles = [Path(file).stem for file in filepaths]\n",
    "    return album_titles"
   ]
  },
  {
   "cell_type": "code",
   "execution_count": 8,
   "metadata": {
    "scrolled": true
   },
   "outputs": [
    {
     "data": {
      "text/plain": [
       "[35.290538484940676,\n",
       " 33.78129602356407,\n",
       " 24.513026540053566,\n",
       " 25.979047143926167,\n",
       " 27.755725190839698,\n",
       " 28.659130773728318,\n",
       " 27.994412757536956,\n",
       " 24.5933694782686,\n",
       " 27.79639380883995,\n",
       " 30.832618025751074,\n",
       " 24.58957887223412,\n",
       " 25.629752851711025,\n",
       " 32.92373707821338,\n",
       " 32.342941611234295,\n",
       " 28.396333299000926]"
      ]
     },
     "execution_count": 8,
     "metadata": {},
     "output_type": "execute_result"
    }
   ],
   "source": [
    "get_unique(\"Atmosphere\")"
   ]
  },
  {
   "cell_type": "code",
   "execution_count": 9,
   "metadata": {},
   "outputs": [],
   "source": [
    "album_names = album_names('Atmosphere')"
   ]
  },
  {
   "cell_type": "code",
   "execution_count": 10,
   "metadata": {},
   "outputs": [],
   "source": [
    "#Making a list of the album year in the order that the dataframe gave me for the album\n",
    "#Gonna add this to the dataframe to groupby year (hopefully)\n",
    "year = [2016, 2019, 1999, 2008, 2018, 2003, 2007, 2002, 1997, 2011, 2016, 2014, 2010, 2005, 2001]"
   ]
  },
  {
   "cell_type": "markdown",
   "metadata": {},
   "source": [
    "**Making a dataframe for the results of get_unique**"
   ]
  },
  {
   "cell_type": "code",
   "execution_count": 11,
   "metadata": {},
   "outputs": [],
   "source": [
    "lr_df = pd.DataFrame(get_unique('Atmosphere'))\n",
    "lr_df = lr_df.rename(columns ={0 : 'lexical richness'})"
   ]
  },
  {
   "cell_type": "code",
   "execution_count": 12,
   "metadata": {},
   "outputs": [],
   "source": [
    "lr_df.index = album_names\n",
    "lr_df['album'] = album_names\n",
    "lr_df['year'] = year"
   ]
  },
  {
   "cell_type": "code",
   "execution_count": 13,
   "metadata": {},
   "outputs": [],
   "source": [
    "lr_df = lr_df.sort_values(by = 'year')"
   ]
  },
  {
   "cell_type": "code",
   "execution_count": 14,
   "metadata": {},
   "outputs": [
    {
     "data": {
      "text/html": [
       "<div>\n",
       "<style scoped>\n",
       "    .dataframe tbody tr th:only-of-type {\n",
       "        vertical-align: middle;\n",
       "    }\n",
       "\n",
       "    .dataframe tbody tr th {\n",
       "        vertical-align: top;\n",
       "    }\n",
       "\n",
       "    .dataframe thead th {\n",
       "        text-align: right;\n",
       "    }\n",
       "</style>\n",
       "<table border=\"1\" class=\"dataframe\">\n",
       "  <thead>\n",
       "    <tr style=\"text-align: right;\">\n",
       "      <th></th>\n",
       "      <th>lexical richness</th>\n",
       "      <th>album</th>\n",
       "      <th>year</th>\n",
       "    </tr>\n",
       "  </thead>\n",
       "  <tbody>\n",
       "    <tr>\n",
       "      <th>Overcast</th>\n",
       "      <td>27.80</td>\n",
       "      <td>Overcast</td>\n",
       "      <td>1997</td>\n",
       "    </tr>\n",
       "    <tr>\n",
       "      <th>Headshots-Se7en</th>\n",
       "      <td>24.51</td>\n",
       "      <td>Headshots-Se7en</td>\n",
       "      <td>1999</td>\n",
       "    </tr>\n",
       "    <tr>\n",
       "      <th>Lucy-Ford-The-Atmosphere-EP-s</th>\n",
       "      <td>28.40</td>\n",
       "      <td>Lucy-Ford-The-Atmosphere-EP-s</td>\n",
       "      <td>2001</td>\n",
       "    </tr>\n",
       "    <tr>\n",
       "      <th>God-Loves-Ugly</th>\n",
       "      <td>24.59</td>\n",
       "      <td>God-Loves-Ugly</td>\n",
       "      <td>2002</td>\n",
       "    </tr>\n",
       "    <tr>\n",
       "      <th>Seven-s-Travels</th>\n",
       "      <td>28.66</td>\n",
       "      <td>Seven-s-Travels</td>\n",
       "      <td>2003</td>\n",
       "    </tr>\n",
       "    <tr>\n",
       "      <th>You-Can-t-Imagine-How-Much-Fun-We-re-Having</th>\n",
       "      <td>32.34</td>\n",
       "      <td>You-Can-t-Imagine-How-Much-Fun-We-re-Having</td>\n",
       "      <td>2005</td>\n",
       "    </tr>\n",
       "    <tr>\n",
       "      <th>Sad-Clown-Bad-Year</th>\n",
       "      <td>27.99</td>\n",
       "      <td>Sad-Clown-Bad-Year</td>\n",
       "      <td>2007</td>\n",
       "    </tr>\n",
       "    <tr>\n",
       "      <th>When-Life-Gives-You-Lemons-You-Paint-That-Shit-Gold</th>\n",
       "      <td>25.98</td>\n",
       "      <td>When-Life-Gives-You-Lemons-You-Paint-That-Shit...</td>\n",
       "      <td>2008</td>\n",
       "    </tr>\n",
       "    <tr>\n",
       "      <th>To-All-My-Friends-Blood-Makes-the-Blade-Holy-The-Atmosphere-Eps</th>\n",
       "      <td>32.92</td>\n",
       "      <td>To-All-My-Friends-Blood-Makes-the-Blade-Holy-T...</td>\n",
       "      <td>2010</td>\n",
       "    </tr>\n",
       "    <tr>\n",
       "      <th>The-Family-Sign</th>\n",
       "      <td>30.83</td>\n",
       "      <td>The-Family-Sign</td>\n",
       "      <td>2011</td>\n",
       "    </tr>\n",
       "    <tr>\n",
       "      <th>Southsiders</th>\n",
       "      <td>25.63</td>\n",
       "      <td>Southsiders</td>\n",
       "      <td>2014</td>\n",
       "    </tr>\n",
       "    <tr>\n",
       "      <th>Frida-Kahlo-vs-Ezra-Pound</th>\n",
       "      <td>35.29</td>\n",
       "      <td>Frida-Kahlo-vs-Ezra-Pound</td>\n",
       "      <td>2016</td>\n",
       "    </tr>\n",
       "    <tr>\n",
       "      <th>Fishing-Blues</th>\n",
       "      <td>24.59</td>\n",
       "      <td>Fishing-Blues</td>\n",
       "      <td>2016</td>\n",
       "    </tr>\n",
       "    <tr>\n",
       "      <th>Mi-Vida-Local</th>\n",
       "      <td>27.76</td>\n",
       "      <td>Mi-Vida-Local</td>\n",
       "      <td>2018</td>\n",
       "    </tr>\n",
       "    <tr>\n",
       "      <th>Whenever</th>\n",
       "      <td>33.78</td>\n",
       "      <td>Whenever</td>\n",
       "      <td>2019</td>\n",
       "    </tr>\n",
       "  </tbody>\n",
       "</table>\n",
       "</div>"
      ],
      "text/plain": [
       "                                                    lexical richness  \\\n",
       "Overcast                                                       27.80   \n",
       "Headshots-Se7en                                                24.51   \n",
       "Lucy-Ford-The-Atmosphere-EP-s                                  28.40   \n",
       "God-Loves-Ugly                                                 24.59   \n",
       "Seven-s-Travels                                                28.66   \n",
       "You-Can-t-Imagine-How-Much-Fun-We-re-Having                    32.34   \n",
       "Sad-Clown-Bad-Year                                             27.99   \n",
       "When-Life-Gives-You-Lemons-You-Paint-That-Shit-...             25.98   \n",
       "To-All-My-Friends-Blood-Makes-the-Blade-Holy-Th...             32.92   \n",
       "The-Family-Sign                                                30.83   \n",
       "Southsiders                                                    25.63   \n",
       "Frida-Kahlo-vs-Ezra-Pound                                      35.29   \n",
       "Fishing-Blues                                                  24.59   \n",
       "Mi-Vida-Local                                                  27.76   \n",
       "Whenever                                                       33.78   \n",
       "\n",
       "                                                                                                album  \\\n",
       "Overcast                                                                                     Overcast   \n",
       "Headshots-Se7en                                                                       Headshots-Se7en   \n",
       "Lucy-Ford-The-Atmosphere-EP-s                                           Lucy-Ford-The-Atmosphere-EP-s   \n",
       "God-Loves-Ugly                                                                         God-Loves-Ugly   \n",
       "Seven-s-Travels                                                                       Seven-s-Travels   \n",
       "You-Can-t-Imagine-How-Much-Fun-We-re-Having               You-Can-t-Imagine-How-Much-Fun-We-re-Having   \n",
       "Sad-Clown-Bad-Year                                                                 Sad-Clown-Bad-Year   \n",
       "When-Life-Gives-You-Lemons-You-Paint-That-Shit-...  When-Life-Gives-You-Lemons-You-Paint-That-Shit...   \n",
       "To-All-My-Friends-Blood-Makes-the-Blade-Holy-Th...  To-All-My-Friends-Blood-Makes-the-Blade-Holy-T...   \n",
       "The-Family-Sign                                                                       The-Family-Sign   \n",
       "Southsiders                                                                               Southsiders   \n",
       "Frida-Kahlo-vs-Ezra-Pound                                                   Frida-Kahlo-vs-Ezra-Pound   \n",
       "Fishing-Blues                                                                           Fishing-Blues   \n",
       "Mi-Vida-Local                                                                           Mi-Vida-Local   \n",
       "Whenever                                                                                     Whenever   \n",
       "\n",
       "                                                    year  \n",
       "Overcast                                            1997  \n",
       "Headshots-Se7en                                     1999  \n",
       "Lucy-Ford-The-Atmosphere-EP-s                       2001  \n",
       "God-Loves-Ugly                                      2002  \n",
       "Seven-s-Travels                                     2003  \n",
       "You-Can-t-Imagine-How-Much-Fun-We-re-Having         2005  \n",
       "Sad-Clown-Bad-Year                                  2007  \n",
       "When-Life-Gives-You-Lemons-You-Paint-That-Shit-...  2008  \n",
       "To-All-My-Friends-Blood-Makes-the-Blade-Holy-Th...  2010  \n",
       "The-Family-Sign                                     2011  \n",
       "Southsiders                                         2014  \n",
       "Frida-Kahlo-vs-Ezra-Pound                           2016  \n",
       "Fishing-Blues                                       2016  \n",
       "Mi-Vida-Local                                       2018  \n",
       "Whenever                                            2019  "
      ]
     },
     "execution_count": 14,
     "metadata": {},
     "output_type": "execute_result"
    }
   ],
   "source": [
    "lr_df"
   ]
  },
  {
   "cell_type": "markdown",
   "metadata": {},
   "source": [
    "**Graph Lexical Richness!**"
   ]
  },
  {
   "cell_type": "code",
   "execution_count": 17,
   "metadata": {},
   "outputs": [
    {
     "data": {
      "text/plain": [
       "Text(0, 0.5, '% unique words')"
      ]
     },
     "execution_count": 17,
     "metadata": {},
     "output_type": "execute_result"
    },
    {
     "data": {
      "image/png": "[encoded data removed]",
      "text/plain": [
       "<Figure size 720x360 with 1 Axes>"
      ]
     },
     "metadata": {
      "needs_background": "light"
     },
     "output_type": "display_data"
    }
   ],
   "source": [
    "lr_df['lexical richness'].plot(kind='bar', cmap = 'Paired', figsize=(10,5), title='Lexical Diversity')\n",
    "plt.xticks(rotation=85)\n",
    "plt.xlabel(\"Albums\", fontsize = 15)\n",
    "plt.ylabel('% unique words', fontsize = 15)\n",
    "#plt.savefig('vocab_bar.png', bbox_inches='tight')"
   ]
  },
  {
   "cell_type": "code",
   "execution_count": null,
   "metadata": {},
   "outputs": [],
   "source": []
  }
 ],
 "metadata": {
  "kernelspec": {
   "display_name": "Python 3",
   "language": "python",
   "name": "python3"
  },
  "language_info": {
   "codemirror_mode": {
    "name": "ipython",
    "version": 3
   },
   "file_extension": ".py",
   "mimetype": "text/x-python",
   "name": "python",
   "nbconvert_exporter": "python",
   "pygments_lexer": "ipython3",
   "version": "3.7.6"
  }
 },
 "nbformat": 4,
 "nbformat_minor": 4
}
