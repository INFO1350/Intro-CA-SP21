{
 "cells": [
  {
   "cell_type": "markdown",
   "metadata": {},
   "source": [
    "# How to Figure Out a New API"
   ]
  },
  {
   "cell_type": "markdown",
   "metadata": {},
   "source": [
    "In this notebook, we will walk through how you might figure out a new and unfamiliar API.\n",
    "\n",
    "Let's say you want to find data about the reviews that people write about places on Google Maps."
   ]
  },
  {
   "cell_type": "markdown",
   "metadata": {},
   "source": [
    "## First, You Google Around\n",
    "\n",
    "To find that data, you might google \"Google Maps API\" and \"Google Maps API wrapper.\"\n",
    "\n",
    "The first search result for \"Google Maps API wrapper\" is a [web page](https://developers.google.com/maps/web-services/client-library) linking to \"client libraries\" for the API — essentially, API wrappers written by the Google Maps team. Sweet!\n",
    "\n",
    "You click the link for the [Python library]( https://github.com/googlemaps/google-maps-services-python ), since Python is the language that we're working with in this class."
   ]
  },
  {
   "cell_type": "markdown",
   "metadata": {},
   "source": [
    "## Then, Most Likely, You Create an API Key"
   ]
  },
  {
   "cell_type": "markdown",
   "metadata": {},
   "source": [
    "Reading the documentation is *SUPER* important for figuring out an API or API wrapper. It's like a mini-textbook for how to use the code."
   ]
  },
  {
   "cell_type": "markdown",
   "metadata": {},
   "source": [
    "In the GitHub repository for the Python wrapper, the documentation explains that you need an API key to use the wrapper:\n",
    "> Each Google Maps Web Service request requires an API key or client ID. API keys are generated in the 'Credentials' page of the 'APIs & Services' tab of Google Cloud console."
   ]
  },
  {
   "cell_type": "markdown",
   "metadata": {},
   "source": [
    "The process for creating an API key with any Google app — Google Maps, YouTube, Gmail, Google Sheets, etc. — is fairly complicated and requires a credit card. But the steps are explained in detail on Google's [website](https://developers.google.com/maps/gmp-get-started#create-project). \n",
    "\n",
    "- First, you need to create a \"project\" on the Google Cloud Console and set up billing\n",
    "- Then you need to enable the specific APIs that you want to use\n",
    "- Then you need to make an API key\n",
    "\n",
    "Once you have an API key, you want to save it in a safe place on your computer. Be sure not to share it openly on the internet.\n",
    "\n",
    "For these reasons, it is good practice to import your API key from another file. That way, if you share your notebook on the internet, nobody can see your API key directly.\n",
    "\n",
    "For example, you can save your API key in the file `my_api_key.py`, which is also in this directory, then import this file as a Python module. Then you can reference the saved variable `api_key` from that module."
   ]
  },
  {
   "cell_type": "code",
   "execution_count": 58,
   "metadata": {},
   "outputs": [],
   "source": [
    "import my_api_key"
   ]
  },
  {
   "cell_type": "markdown",
   "metadata": {},
   "source": [
    "Test it out by running this cell"
   ]
  },
  {
   "cell_type": "code",
   "execution_count": null,
   "metadata": {},
   "outputs": [],
   "source": [
    "api_key"
   ]
  },
  {
   "cell_type": "markdown",
   "metadata": {},
   "source": [
    "You can also manually copy and paste your API key into a notebook, but again you should be sure to delete this cell and not share the key on the internet."
   ]
  },
  {
   "cell_type": "code",
   "execution_count": null,
   "metadata": {},
   "outputs": [],
   "source": [
    "#api_key = \"YOUR API KEY HERE\""
   ]
  },
  {
   "cell_type": "markdown",
   "metadata": {},
   "source": [
    "## Then You Read the Documentation"
   ]
  },
  {
   "cell_type": "markdown",
   "metadata": {},
   "source": [
    "### and re-read the documentation and re-re-read the documentation..."
   ]
  },
  {
   "cell_type": "markdown",
   "metadata": {},
   "source": [
    "Google Maps Places documentation: https://developers.google.com/maps/documentation/places/web-service/search\n",
    "\n",
    "Google Maps API wrapper documentation: https://googlemaps.github.io/google-maps-services-python/docs/index.html#"
   ]
  },
  {
   "cell_type": "markdown",
   "metadata": {},
   "source": [
    "![](find_place.png)"
   ]
  },
  {
   "cell_type": "markdown",
   "metadata": {},
   "source": [
    "![](place.png)"
   ]
  },
  {
   "cell_type": "markdown",
   "metadata": {},
   "source": [
    "## Then You Test It Out"
   ]
  },
  {
   "cell_type": "markdown",
   "metadata": {},
   "source": [
    "Install Google Maps API wrapper"
   ]
  },
  {
   "cell_type": "code",
   "execution_count": null,
   "metadata": {
    "scrolled": true
   },
   "outputs": [],
   "source": [
    "! pip install -U googlemaps"
   ]
  },
  {
   "cell_type": "markdown",
   "metadata": {},
   "source": [
    "Import libraries"
   ]
  },
  {
   "cell_type": "code",
   "execution_count": 21,
   "metadata": {},
   "outputs": [],
   "source": [
    "import googlemaps\n",
    "import pandas as pd\n",
    "pd.options.display.max_rows = 50\n",
    "pd.options.display.max_columns = 50\n",
    "pd.options.display.max_colwidth = 500"
   ]
  },
  {
   "cell_type": "markdown",
   "metadata": {},
   "source": [
    "Set up Google Maps wrapper with API key"
   ]
  },
  {
   "cell_type": "code",
   "execution_count": 21,
   "metadata": {},
   "outputs": [],
   "source": [
    "gmaps = googlemaps.Client(key=api_key)"
   ]
  },
  {
   "cell_type": "markdown",
   "metadata": {},
   "source": [
    "[Find the place ID for Beebe Lake](https://googlemaps.github.io/google-maps-services-python/docs/index.html#googlemaps.Client.find_place)"
   ]
  },
  {
   "cell_type": "code",
   "execution_count": 36,
   "metadata": {},
   "outputs": [
    {
     "data": {
      "text/plain": [
       "{'candidates': [{'place_id': 'ChIJqfTWVB6C0IkRSZm2PCd1JHE'}], 'status': 'OK'}"
      ]
     },
     "execution_count": 36,
     "metadata": {},
     "output_type": "execute_result"
    }
   ],
   "source": [
    "gmaps.find_place('Beebe Lake', input_type='textquery')"
   ]
  },
  {
   "cell_type": "markdown",
   "metadata": {},
   "source": [
    "[Find place details for Beebe Lake](https://googlemaps.github.io/google-maps-services-python/docs/index.html#googlemaps.Client.place)"
   ]
  },
  {
   "cell_type": "code",
   "execution_count": 27,
   "metadata": {
    "scrolled": true
   },
   "outputs": [
    {
     "data": {
      "text/plain": [
       "{'html_attributions': [],\n",
       " 'result': {'address_components': [{'long_name': 'Beebe Lake',\n",
       "    'short_name': 'Beebe Lake',\n",
       "    'types': ['natural_feature', 'establishment']},\n",
       "   {'long_name': 'Tompkins County',\n",
       "    'short_name': 'Tompkins County',\n",
       "    'types': ['administrative_area_level_2', 'political']},\n",
       "   {'long_name': 'New York',\n",
       "    'short_name': 'NY',\n",
       "    'types': ['administrative_area_level_1', 'political']},\n",
       "   {'long_name': 'United States',\n",
       "    'short_name': 'US',\n",
       "    'types': ['country', 'political']},\n",
       "   {'long_name': '14850', 'short_name': '14850', 'types': ['postal_code']}],\n",
       "  'adr_address': 'Beebe Lake, <span class=\"region\">New York</span> <span class=\"postal-code\">14850</span>, <span class=\"country-name\">USA</span>',\n",
       "  'formatted_address': 'Beebe Lake, New York 14850, USA',\n",
       "  'geometry': {'location': {'lat': 42.4510099, 'lng': -76.4761904},\n",
       "   'viewport': {'northeast': {'lat': 42.45258032994754,\n",
       "     'lng': -76.4730453317786},\n",
       "    'southwest': {'lat': 42.44988236936455, 'lng': -76.47999756180495}}},\n",
       "  'icon': 'https://maps.gstatic.com/mapfiles/place_api/icons/v1/png_71/geocode-71.png',\n",
       "  'name': 'Beebe Lake',\n",
       "  'photos': [{'height': 3024,\n",
       "    'html_attributions': ['<a href=\"https://maps.google.com/maps/contrib/109578824600894016964\">Charlie Chung</a>'],\n",
       "    'photo_reference': 'ATtYBwIB5W1OsqcJwpMqOm2bPRIpS6baR5Xm50t6jT_Z7z-sUWrtOr22E-IDUPCCeIErsQh3B-q8YfERjkXLrvh-6fnRgvypcRGXW98Nr-LC3ww9YG45PTW8sWk9NKt6mfJF8ABTZnlMlbENYy9rWNDZKW4C3vkUcrbus21Q1KoKKCWTqIgX',\n",
       "    'width': 4032},\n",
       "   {'height': 3024,\n",
       "    'html_attributions': ['<a href=\"https://maps.google.com/maps/contrib/113388717724158109337\">Daisy Y</a>'],\n",
       "    'photo_reference': 'ATtYBwKSHgulXYjhQuPGMnTjxzPb0yr0ekbqwO7ZrcQysCfqEiT-2Yti0wb6Iy2yEqgsAhIej01Rgkjf27zp2EYt2aS9SnAoEEi5QXjvUFiY0ivHMdos5HQWiUKcEDNumaD1rR0Z38UdtYJnqox_rXEbGnjsL7_IdoYBLi2GcpB273OtP7Mb',\n",
       "    'width': 4032},\n",
       "   {'height': 3120,\n",
       "    'html_attributions': ['<a href=\"https://maps.google.com/maps/contrib/105517093223006174537\">nazlı konya</a>'],\n",
       "    'photo_reference': 'ATtYBwJX-pXA74mUrp2d4u-91IVUfunM-JCv_boDYd_CB3CNuchohnQ5SRy4TXqD4txJrrgREKJn6OW2Q8QXG102fwepDhLOuUohpUxnVDLh1aWtYmI_qFYMGQYckupmNL2DJrETfng01oH1YZcxrett631atFb9tX2wIEB26t7vdCs3fgw',\n",
       "    'width': 4160},\n",
       "   {'height': 1456,\n",
       "    'html_attributions': ['<a href=\"https://maps.google.com/maps/contrib/101046882135806425785\">Ira Gon</a>'],\n",
       "    'photo_reference': 'ATtYBwLn0L04UvYIKJYDek14gPN2XY_9yMRlai2Zl6wZ-ODb6WNTcVkwUECQyCxZJCpURp0bpfJuw_HYp8srFhWSNmid_8TzFUEsvZVVErzOVyTlO4wn7gIRzCNE-2zCqGVgeK0e3o3IwIU9KseVJUoApdiwI6EPWWpQjTnlVw9PwOxxcsPO',\n",
       "    'width': 2592},\n",
       "   {'height': 3024,\n",
       "    'html_attributions': ['<a href=\"https://maps.google.com/maps/contrib/108640463498565010654\">Regina Martinez</a>'],\n",
       "    'photo_reference': 'ATtYBwLWdatfq02gYDgXV0KzUIVSF37nvpxE7i65LvxKCNeAI0diG43CvimeXWApWGVQIbfaJ6cYByvU6nCUHk6NH-NPBgf2u6NnZIaeuMcRwn-PJkxLINtpJhBjKS1m6NEKzZrELHh3jiISZXOhOZ4TwdlEX1Vqjr3IuaF6t7UnZXyw5c1U',\n",
       "    'width': 4032},\n",
       "   {'height': 1872,\n",
       "    'html_attributions': ['<a href=\"https://maps.google.com/maps/contrib/110668897095058225687\">Sandeep Kumar</a>'],\n",
       "    'photo_reference': 'ATtYBwIjyB6kwt_YwQn_HchqUkTBm9yoxTGLtXfVWHLOlcUPYpyLi-EVaT6CCgJWDAjVU7rSgwYPC_zdQCc9RxZw_sck5MbWUnyfSJAeMTC9FLS8MIacNx6rjm4yD4leiXbPh0-heEA2dt9wyNjpNQ7GJ_OhTx_xXuqpNPljMv61MM0CQfzT',\n",
       "    'width': 3328},\n",
       "   {'height': 4032,\n",
       "    'html_attributions': ['<a href=\"https://maps.google.com/maps/contrib/100533419529512773822\">Ed cernyar</a>'],\n",
       "    'photo_reference': 'ATtYBwJVIlwxP9QxykQ5_xQZtOezuKFw-qbr1tog9d9ObyZle4XFPLZjNektNY1td5Yog7Z8SzufA-xVpXREEIoEnHFv38BLEIvOy5U-qsIRl_G5WF9bHU1VCWe4E0hr1HDzmrxPfBAoQc9lG4Z6HQIv97N0VmHbzCLkhCAMMMnWBA-tb4bv',\n",
       "    'width': 3024},\n",
       "   {'height': 3024,\n",
       "    'html_attributions': ['<a href=\"https://maps.google.com/maps/contrib/113388717724158109337\">Daisy Y</a>'],\n",
       "    'photo_reference': 'ATtYBwKJ1dth2cS876W1QTKreya3hPg1QXDT3NKmoWE7NVWX8ixDjHd7XTjbSuhX11TwU67K-HWtFq8kdBg4HLE3GymRZF-Nsct7sy0eNpf_E6BEuagbppdhpROhDR5RGcagIAoLAocUE1cQ4cDPC4Is83WIMOg14jbJLhcav-wxRuMPcjNP',\n",
       "    'width': 4032},\n",
       "   {'height': 1872,\n",
       "    'html_attributions': ['<a href=\"https://maps.google.com/maps/contrib/110668897095058225687\">Sandeep Kumar</a>'],\n",
       "    'photo_reference': 'ATtYBwLlRicNeeYpyY5K0ar65CtfGv6swqn0NeMNwa-N3Pcdciyqr2_4XDJRY5Y7oY8e3pKWHkfKElcga5Gink7208Py4XFI4SkLDq1eDazuVE87PQrmxN4JZ8_B1NB168Ju_KbDJvRT8cvPKRfJCcdKWRT_tXjJo_fZoPsWWf3YIFPEX_2t',\n",
       "    'width': 3328},\n",
       "   {'height': 3024,\n",
       "    'html_attributions': ['<a href=\"https://maps.google.com/maps/contrib/109670435802249590581\">Teresa Tyrrell</a>'],\n",
       "    'photo_reference': 'ATtYBwLqtEFoNHRW5VVWNYt7prG-AGOCIaJYUSNMZAloy6TrwhsYwX--KzpIOihDJIeV70Ts50xdv9aDK-krA89Qii_-0pWZ6iumbwsRnIzn8K3u4ri2XTxIBd6s-WSi07RinwbFTfoHgtEe8NhGU_Ff24LNg8IC949O2uYQaPYIetjUzZTJ',\n",
       "    'width': 4032}],\n",
       "  'place_id': 'ChIJqfTWVB6C0IkRSZm2PCd1JHE',\n",
       "  'rating': 4.8,\n",
       "  'reference': 'ChIJqfTWVB6C0IkRSZm2PCd1JHE',\n",
       "  'reviews': [{'author_name': 'melissa stone',\n",
       "    'author_url': 'https://www.google.com/maps/contrib/104857888078479343452/reviews',\n",
       "    'language': 'en',\n",
       "    'profile_photo_url': 'https://lh3.googleusercontent.com/a-/AOh14GjzHObpe9adoJmL0A06bBo_9GmfaY3fo0gpS9Ov3w=s128-c0x00000000-cc-rp-mo-ba4',\n",
       "    'rating': 4,\n",
       "    'relative_time_description': '6 months ago',\n",
       "    'text': 'Long drive but worth it',\n",
       "    'time': 1602703216},\n",
       "   {'author_name': 'Daisy Y',\n",
       "    'author_url': 'https://www.google.com/maps/contrib/113388717724158109337/reviews',\n",
       "    'language': 'en',\n",
       "    'profile_photo_url': 'https://lh3.googleusercontent.com/a/AATXAJwDtJHu-A-tu-bxdFTEV1kVLap5EIH03Rzi42PQ=s128-c0x00000000-cc-rp-mo',\n",
       "    'rating': 5,\n",
       "    'relative_time_description': '7 months ago',\n",
       "    'text': 'its a quick trail and view is pretty on two ends of the trail',\n",
       "    'time': 1599430674},\n",
       "   {'author_name': 'FunkyMonk44',\n",
       "    'author_url': 'https://www.google.com/maps/contrib/113466325228139947132/reviews',\n",
       "    'language': 'en',\n",
       "    'profile_photo_url': 'https://lh3.googleusercontent.com/a/AATXAJy7rlcGvL2x7bdmsQTWOUcL0H3DahTIhPhLZQLY=s128-c0x00000000-cc-rp-mo-ba5',\n",
       "    'rating': 5,\n",
       "    'relative_time_description': 'a year ago',\n",
       "    'text': 'Great place to see the natural beauty of the surrounding area. Every nature area is unique in some way or another and this one does not disappoint. There is a bridge that you can take to capture even more views. Very relaxing and scenic setting for anyone looking for a peaceful adventure.',\n",
       "    'time': 1578625230},\n",
       "   {'author_name': 'Mariena Silvestry Ramos',\n",
       "    'author_url': 'https://www.google.com/maps/contrib/107999355375407869191/reviews',\n",
       "    'language': 'en',\n",
       "    'profile_photo_url': 'https://lh3.googleusercontent.com/a-/AOh14Gh1RnK-HbUwpyOtmFIgU3tQt9zDIeZoVua9ydSfHQ=s128-c0x00000000-cc-rp-mo-ba5',\n",
       "    'rating': 5,\n",
       "    'relative_time_description': 'a year ago',\n",
       "    'text': \"Beautiful lake and hike. Easy to access from the Cornell campus. It looks absolutely breathtaking in the fall. There's a stone bridge with gorgeous views of the lake. Leads to Triphammer Falls. There's a bridge on campus (closed during the winter, I believe) to cross the falls. There are kayaks to rent too. Worth exploring for sure.\",\n",
       "    'time': 1571456379},\n",
       "   {'author_name': 'Don Brovero',\n",
       "    'author_url': 'https://www.google.com/maps/contrib/111391850469954642590/reviews',\n",
       "    'language': 'en',\n",
       "    'profile_photo_url': 'https://lh3.googleusercontent.com/a-/AOh14GgnJrQz7VU7VGCp8XqpUQKnOBp2RNAh9NyeQtmddA=s128-c0x00000000-cc-rp-mo-ba5',\n",
       "    'rating': 4,\n",
       "    'relative_time_description': '11 months ago',\n",
       "    'text': 'A nice little hike around this lake.  A lot of history, some cool natural water falls and also a neat damn. The hike is roughly 60 minutes and there is a lot to see and it is located right on the Cornell campus.',\n",
       "    'time': 1591043967}],\n",
       "  'types': ['natural_feature', 'establishment'],\n",
       "  'url': 'https://maps.google.com/?q=Beebe+Lake&ftid=0x89d0821e54d6f4a9:0x712475273cb69949',\n",
       "  'user_ratings_total': 8,\n",
       "  'utc_offset': -240},\n",
       " 'status': 'OK'}"
      ]
     },
     "execution_count": 27,
     "metadata": {},
     "output_type": "execute_result"
    }
   ],
   "source": [
    "gmaps.place('ChIJqfTWVB6C0IkRSZm2PCd1JHE')"
   ]
  },
  {
   "cell_type": "markdown",
   "metadata": {},
   "source": [
    "Read the JSON data into a Pandas DataFrame"
   ]
  },
  {
   "cell_type": "code",
   "execution_count": 54,
   "metadata": {},
   "outputs": [
    {
     "data": {
      "text/html": [
       "<div>\n",
       "<style scoped>\n",
       "    .dataframe tbody tr th:only-of-type {\n",
       "        vertical-align: middle;\n",
       "    }\n",
       "\n",
       "    .dataframe tbody tr th {\n",
       "        vertical-align: top;\n",
       "    }\n",
       "\n",
       "    .dataframe thead th {\n",
       "        text-align: right;\n",
       "    }\n",
       "</style>\n",
       "<table border=\"1\" class=\"dataframe\">\n",
       "  <thead>\n",
       "    <tr style=\"text-align: right;\">\n",
       "      <th></th>\n",
       "      <th>html_attributions</th>\n",
       "      <th>status</th>\n",
       "      <th>result.address_components</th>\n",
       "      <th>result.adr_address</th>\n",
       "      <th>result.formatted_address</th>\n",
       "      <th>result.geometry.location.lat</th>\n",
       "      <th>result.geometry.location.lng</th>\n",
       "      <th>result.geometry.viewport.northeast.lat</th>\n",
       "      <th>result.geometry.viewport.northeast.lng</th>\n",
       "      <th>result.geometry.viewport.southwest.lat</th>\n",
       "      <th>result.geometry.viewport.southwest.lng</th>\n",
       "      <th>result.icon</th>\n",
       "      <th>result.name</th>\n",
       "      <th>result.photos</th>\n",
       "      <th>result.place_id</th>\n",
       "      <th>result.rating</th>\n",
       "      <th>result.reference</th>\n",
       "      <th>result.reviews</th>\n",
       "      <th>result.types</th>\n",
       "      <th>result.url</th>\n",
       "      <th>result.user_ratings_total</th>\n",
       "      <th>result.utc_offset</th>\n",
       "    </tr>\n",
       "  </thead>\n",
       "  <tbody>\n",
       "    <tr>\n",
       "      <th>0</th>\n",
       "      <td>[]</td>\n",
       "      <td>OK</td>\n",
       "      <td>[{'long_name': 'Beebe Lake', 'short_name': 'Beebe Lake', 'types': ['natural_feature', 'establishment']}, {'long_name': 'Tompkins County', 'short_name': 'Tompkins County', 'types': ['administrative_area_level_2', 'political']}, {'long_name': 'New York', 'short_name': 'NY', 'types': ['administrative_area_level_1', 'political']}, {'long_name': 'United States', 'short_name': 'US', 'types': ['country', 'political']}, {'long_name': '14850', 'short_name': '14850', 'types': ['postal_code']}]</td>\n",
       "      <td>Beebe Lake, &lt;span class=\"region\"&gt;New York&lt;/span&gt; &lt;span class=\"postal-code\"&gt;14850&lt;/span&gt;, &lt;span class=\"country-name\"&gt;USA&lt;/span&gt;</td>\n",
       "      <td>Beebe Lake, New York 14850, USA</td>\n",
       "      <td>42.45101</td>\n",
       "      <td>-76.47619</td>\n",
       "      <td>42.45258</td>\n",
       "      <td>-76.473045</td>\n",
       "      <td>42.449882</td>\n",
       "      <td>-76.479998</td>\n",
       "      <td>https://maps.gstatic.com/mapfiles/place_api/icons/v1/png_71/geocode-71.png</td>\n",
       "      <td>Beebe Lake</td>\n",
       "      <td>[{'height': 3024, 'html_attributions': ['&lt;a href=\"https://maps.google.com/maps/contrib/109578824600894016964\"&gt;Charlie Chung&lt;/a&gt;'], 'photo_reference': 'ATtYBwIE78loUldyoKNmqiaMGEBOKc4jWuUI5VevaTBCl64iBXqNzHS83HLGxyWQYOGDeSXmFO6Negq2ARwByZzKE2h8yk623nVRLmf0bLQFBtNbIUCaySIYKbxEk9vThudMc8WglUXKCD-jQKTFa1V2TtnHQDcub9UjNyDxHOIdB1lx8BvL', 'width': 4032}, {'height': 3024, 'html_attributions': ['&lt;a href=\"https://maps.google.com/maps/contrib/113388717724158109337\"&gt;Daisy Y&lt;/a&gt;'], 'photo_reference': 'AT...</td>\n",
       "      <td>ChIJqfTWVB6C0IkRSZm2PCd1JHE</td>\n",
       "      <td>4.8</td>\n",
       "      <td>ChIJqfTWVB6C0IkRSZm2PCd1JHE</td>\n",
       "      <td>[{'author_name': 'melissa stone', 'author_url': 'https://www.google.com/maps/contrib/104857888078479343452/reviews', 'language': 'en', 'profile_photo_url': 'https://lh3.googleusercontent.com/a-/AOh14GjzHObpe9adoJmL0A06bBo_9GmfaY3fo0gpS9Ov3w=s128-c0x00000000-cc-rp-mo-ba4', 'rating': 4, 'relative_time_description': '6 months ago', 'text': 'Long drive but worth it', 'time': 1602703216}, {'author_name': 'Daisy Y', 'author_url': 'https://www.google.com/maps/contrib/113388717724158109337/reviews',...</td>\n",
       "      <td>[natural_feature, establishment]</td>\n",
       "      <td>https://maps.google.com/?q=Beebe+Lake&amp;ftid=0x89d0821e54d6f4a9:0x712475273cb69949</td>\n",
       "      <td>8</td>\n",
       "      <td>-240</td>\n",
       "    </tr>\n",
       "  </tbody>\n",
       "</table>\n",
       "</div>"
      ],
      "text/plain": [
       "  html_attributions status  \\\n",
       "0                []     OK   \n",
       "\n",
       "                                                                                                                                                                                                                                                                                                                                                                                                                                                                                  result.address_components  \\\n",
       "0  [{'long_name': 'Beebe Lake', 'short_name': 'Beebe Lake', 'types': ['natural_feature', 'establishment']}, {'long_name': 'Tompkins County', 'short_name': 'Tompkins County', 'types': ['administrative_area_level_2', 'political']}, {'long_name': 'New York', 'short_name': 'NY', 'types': ['administrative_area_level_1', 'political']}, {'long_name': 'United States', 'short_name': 'US', 'types': ['country', 'political']}, {'long_name': '14850', 'short_name': '14850', 'types': ['postal_code']}]   \n",
       "\n",
       "                                                                                                               result.adr_address  \\\n",
       "0  Beebe Lake, <span class=\"region\">New York</span> <span class=\"postal-code\">14850</span>, <span class=\"country-name\">USA</span>   \n",
       "\n",
       "          result.formatted_address  result.geometry.location.lat  \\\n",
       "0  Beebe Lake, New York 14850, USA                      42.45101   \n",
       "\n",
       "   result.geometry.location.lng  result.geometry.viewport.northeast.lat  \\\n",
       "0                     -76.47619                                42.45258   \n",
       "\n",
       "   result.geometry.viewport.northeast.lng  \\\n",
       "0                              -76.473045   \n",
       "\n",
       "   result.geometry.viewport.southwest.lat  \\\n",
       "0                               42.449882   \n",
       "\n",
       "   result.geometry.viewport.southwest.lng  \\\n",
       "0                              -76.479998   \n",
       "\n",
       "                                                                  result.icon  \\\n",
       "0  https://maps.gstatic.com/mapfiles/place_api/icons/v1/png_71/geocode-71.png   \n",
       "\n",
       "  result.name  \\\n",
       "0  Beebe Lake   \n",
       "\n",
       "                                                                                                                                                                                                                                                                                                                                                                                                                                                                                                         result.photos  \\\n",
       "0  [{'height': 3024, 'html_attributions': ['<a href=\"https://maps.google.com/maps/contrib/109578824600894016964\">Charlie Chung</a>'], 'photo_reference': 'ATtYBwIE78loUldyoKNmqiaMGEBOKc4jWuUI5VevaTBCl64iBXqNzHS83HLGxyWQYOGDeSXmFO6Negq2ARwByZzKE2h8yk623nVRLmf0bLQFBtNbIUCaySIYKbxEk9vThudMc8WglUXKCD-jQKTFa1V2TtnHQDcub9UjNyDxHOIdB1lx8BvL', 'width': 4032}, {'height': 3024, 'html_attributions': ['<a href=\"https://maps.google.com/maps/contrib/113388717724158109337\">Daisy Y</a>'], 'photo_reference': 'AT...   \n",
       "\n",
       "               result.place_id  result.rating             result.reference  \\\n",
       "0  ChIJqfTWVB6C0IkRSZm2PCd1JHE            4.8  ChIJqfTWVB6C0IkRSZm2PCd1JHE   \n",
       "\n",
       "                                                                                                                                                                                                                                                                                                                                                                                                                                                                                                        result.reviews  \\\n",
       "0  [{'author_name': 'melissa stone', 'author_url': 'https://www.google.com/maps/contrib/104857888078479343452/reviews', 'language': 'en', 'profile_photo_url': 'https://lh3.googleusercontent.com/a-/AOh14GjzHObpe9adoJmL0A06bBo_9GmfaY3fo0gpS9Ov3w=s128-c0x00000000-cc-rp-mo-ba4', 'rating': 4, 'relative_time_description': '6 months ago', 'text': 'Long drive but worth it', 'time': 1602703216}, {'author_name': 'Daisy Y', 'author_url': 'https://www.google.com/maps/contrib/113388717724158109337/reviews',...   \n",
       "\n",
       "                       result.types  \\\n",
       "0  [natural_feature, establishment]   \n",
       "\n",
       "                                                                         result.url  \\\n",
       "0  https://maps.google.com/?q=Beebe+Lake&ftid=0x89d0821e54d6f4a9:0x712475273cb69949   \n",
       "\n",
       "   result.user_ratings_total  result.utc_offset  \n",
       "0                          8               -240  "
      ]
     },
     "execution_count": 54,
     "metadata": {},
     "output_type": "execute_result"
    }
   ],
   "source": [
    "place = gmaps.place('ChIJqfTWVB6C0IkRSZm2PCd1JHE')\n",
    "df = pd.json_normalize(place)\n",
    "df"
   ]
  },
  {
   "cell_type": "markdown",
   "metadata": {},
   "source": [
    "Check out the columns"
   ]
  },
  {
   "cell_type": "code",
   "execution_count": 39,
   "metadata": {},
   "outputs": [
    {
     "data": {
      "text/plain": [
       "Index(['html_attributions', 'status', 'result.address_components',\n",
       "       'result.adr_address', 'result.formatted_address',\n",
       "       'result.geometry.location.lat', 'result.geometry.location.lng',\n",
       "       'result.geometry.viewport.northeast.lat',\n",
       "       'result.geometry.viewport.northeast.lng',\n",
       "       'result.geometry.viewport.southwest.lat',\n",
       "       'result.geometry.viewport.southwest.lng', 'result.icon', 'result.name',\n",
       "       'result.photos', 'result.place_id', 'result.rating', 'result.reference',\n",
       "       'result.reviews', 'result.types', 'result.url',\n",
       "       'result.user_ratings_total', 'result.utc_offset'],\n",
       "      dtype='object')"
      ]
     },
     "execution_count": 39,
     "metadata": {},
     "output_type": "execute_result"
    }
   ],
   "source": [
    "df.columns"
   ]
  },
  {
   "cell_type": "markdown",
   "metadata": {},
   "source": [
    "Just examine the reviews, average rating, and total user ratings"
   ]
  },
  {
   "cell_type": "code",
   "execution_count": 55,
   "metadata": {},
   "outputs": [
    {
     "data": {
      "text/html": [
       "<div>\n",
       "<style scoped>\n",
       "    .dataframe tbody tr th:only-of-type {\n",
       "        vertical-align: middle;\n",
       "    }\n",
       "\n",
       "    .dataframe tbody tr th {\n",
       "        vertical-align: top;\n",
       "    }\n",
       "\n",
       "    .dataframe thead th {\n",
       "        text-align: right;\n",
       "    }\n",
       "</style>\n",
       "<table border=\"1\" class=\"dataframe\">\n",
       "  <thead>\n",
       "    <tr style=\"text-align: right;\">\n",
       "      <th></th>\n",
       "      <th>result.reviews</th>\n",
       "      <th>result.rating</th>\n",
       "      <th>result.user_ratings_total</th>\n",
       "    </tr>\n",
       "  </thead>\n",
       "  <tbody>\n",
       "    <tr>\n",
       "      <th>0</th>\n",
       "      <td>[{'author_name': 'melissa stone', 'author_url': 'https://www.google.com/maps/contrib/104857888078479343452/reviews', 'language': 'en', 'profile_photo_url': 'https://lh3.googleusercontent.com/a-/AOh14GjzHObpe9adoJmL0A06bBo_9GmfaY3fo0gpS9Ov3w=s128-c0x00000000-cc-rp-mo-ba4', 'rating': 4, 'relative_time_description': '6 months ago', 'text': 'Long drive but worth it', 'time': 1602703216}, {'author_name': 'Daisy Y', 'author_url': 'https://www.google.com/maps/contrib/113388717724158109337/reviews',...</td>\n",
       "      <td>4.8</td>\n",
       "      <td>8</td>\n",
       "    </tr>\n",
       "  </tbody>\n",
       "</table>\n",
       "</div>"
      ],
      "text/plain": [
       "                                                                                                                                                                                                                                                                                                                                                                                                                                                                                                        result.reviews  \\\n",
       "0  [{'author_name': 'melissa stone', 'author_url': 'https://www.google.com/maps/contrib/104857888078479343452/reviews', 'language': 'en', 'profile_photo_url': 'https://lh3.googleusercontent.com/a-/AOh14GjzHObpe9adoJmL0A06bBo_9GmfaY3fo0gpS9Ov3w=s128-c0x00000000-cc-rp-mo-ba4', 'rating': 4, 'relative_time_description': '6 months ago', 'text': 'Long drive but worth it', 'time': 1602703216}, {'author_name': 'Daisy Y', 'author_url': 'https://www.google.com/maps/contrib/113388717724158109337/reviews',...   \n",
       "\n",
       "   result.rating  result.user_ratings_total  \n",
       "0            4.8                          8  "
      ]
     },
     "execution_count": 55,
     "metadata": {},
     "output_type": "execute_result"
    }
   ],
   "source": [
    "df[['result.reviews', 'result.rating', 'result.user_ratings_total']]"
   ]
  },
  {
   "cell_type": "markdown",
   "metadata": {},
   "source": [
    "### Get Reviews"
   ]
  },
  {
   "cell_type": "markdown",
   "metadata": {},
   "source": [
    "Based on the JSON, we can see that the review data is nested here:"
   ]
  },
  {
   "cell_type": "code",
   "execution_count": 34,
   "metadata": {
    "scrolled": true
   },
   "outputs": [
    {
     "data": {
      "text/plain": [
       "{'html_attributions': [],\n",
       " 'result': {'address_components': [{'long_name': 'Beebe Lake',\n",
       "    'short_name': 'Beebe Lake',\n",
       "    'types': ['natural_feature', 'establishment']},\n",
       "   {'long_name': 'Tompkins County',\n",
       "    'short_name': 'Tompkins County',\n",
       "    'types': ['administrative_area_level_2', 'political']},\n",
       "   {'long_name': 'New York',\n",
       "    'short_name': 'NY',\n",
       "    'types': ['administrative_area_level_1', 'political']},\n",
       "   {'long_name': 'United States',\n",
       "    'short_name': 'US',\n",
       "    'types': ['country', 'political']},\n",
       "   {'long_name': '14850', 'short_name': '14850', 'types': ['postal_code']}],\n",
       "  'adr_address': 'Beebe Lake, <span class=\"region\">New York</span> <span class=\"postal-code\">14850</span>, <span class=\"country-name\">USA</span>',\n",
       "  'formatted_address': 'Beebe Lake, New York 14850, USA',\n",
       "  'geometry': {'location': {'lat': 42.4510099, 'lng': -76.4761904},\n",
       "   'viewport': {'northeast': {'lat': 42.45258032994754,\n",
       "     'lng': -76.4730453317786},\n",
       "    'southwest': {'lat': 42.44988236936455, 'lng': -76.47999756180495}}},\n",
       "  'icon': 'https://maps.gstatic.com/mapfiles/place_api/icons/v1/png_71/geocode-71.png',\n",
       "  'name': 'Beebe Lake',\n",
       "  'photos': [{'height': 3024,\n",
       "    'html_attributions': ['<a href=\"https://maps.google.com/maps/contrib/109578824600894016964\">Charlie Chung</a>'],\n",
       "    'photo_reference': 'ATtYBwIE78loUldyoKNmqiaMGEBOKc4jWuUI5VevaTBCl64iBXqNzHS83HLGxyWQYOGDeSXmFO6Negq2ARwByZzKE2h8yk623nVRLmf0bLQFBtNbIUCaySIYKbxEk9vThudMc8WglUXKCD-jQKTFa1V2TtnHQDcub9UjNyDxHOIdB1lx8BvL',\n",
       "    'width': 4032},\n",
       "   {'height': 3024,\n",
       "    'html_attributions': ['<a href=\"https://maps.google.com/maps/contrib/113388717724158109337\">Daisy Y</a>'],\n",
       "    'photo_reference': 'ATtYBwLEAqGobRv_8oxmTCVArYiQgNpcSDMR9KzlJVjwUhRm8PcHHqMEZx_8SAyNJRS1sGrfVdOu6UbyaYLJiywfrrCve3I7YkyrwvDu0XGApTFMYLuiHRnaM90z16pFJ4CubsRMiOwgNR9tcP9ukxMrCy_xmutrjOMajiXAv1VgDfVrMT10',\n",
       "    'width': 4032},\n",
       "   {'height': 3120,\n",
       "    'html_attributions': ['<a href=\"https://maps.google.com/maps/contrib/105517093223006174537\">nazlı konya</a>'],\n",
       "    'photo_reference': 'ATtYBwJoBgKRlkUDLltJEVPYiz32NKJf5AtYNDeTZLKcYgL8j1CeXe0BGmfXu6cuWoIfV553WU0aH-JW6jRBRx1WqpbaOIDkMYvtzXCfEwKbfbFiMFiQP_5lSNLA9chIkXy4aWjCZ_bhgeySi-TTM1OvdBun36MN7KT45-oY_2lFfeku7x0',\n",
       "    'width': 4160},\n",
       "   {'height': 1456,\n",
       "    'html_attributions': ['<a href=\"https://maps.google.com/maps/contrib/101046882135806425785\">Ira Gon</a>'],\n",
       "    'photo_reference': 'ATtYBwJlfFJR3x-saK8hZCI4PZMsXM5lGck6I_ImJNyRPQrh9-33yeo958w2TV0SooKfwAGhirKOOj9KJXBhYyKNNgOAKSG3T3oFQLxT2iJQ_LWgBQD5Z4cxakNDS7Rr0L8Q5Si-a9FZ3RVRggO939OoY-yy1pXCrJe-QGoId_AXkmZyH6Gx',\n",
       "    'width': 2592},\n",
       "   {'height': 3024,\n",
       "    'html_attributions': ['<a href=\"https://maps.google.com/maps/contrib/108640463498565010654\">Regina Martinez</a>'],\n",
       "    'photo_reference': 'ATtYBwL4bPROdZtdkDPJ89CnvhEDHsPLt6Ico-2K9qiirDm7SeozSTmymAwljOZaqPW_y5669Hb7l9am8TnUUfIeIki3DT316-AUAEhyYpgeuJJn74pqdfGETzJLW6TuWaQ3AzY0zim8meGeTbVanSlwKiagf3r3rrkE-H4qk5OI56ZGad9y',\n",
       "    'width': 4032},\n",
       "   {'height': 1872,\n",
       "    'html_attributions': ['<a href=\"https://maps.google.com/maps/contrib/110668897095058225687\">Sandeep Kumar</a>'],\n",
       "    'photo_reference': 'ATtYBwIGCfUE2YeM3MFYopq6dSYMiLPZEUGDc1E0KTvr_OxSb20X0WGCZSg_0jlDBWJejXwx9PNcN2fDC0v73LwBOtURtxB9Wab2gD-cJ8PIWp4fYaHcWYtkLmnfAVWPEwX_rsJxX6f0m1yw6h3I9cjc1kq2CfhMhwEVWvOgcfFjTx4qXSh8',\n",
       "    'width': 3328},\n",
       "   {'height': 4032,\n",
       "    'html_attributions': ['<a href=\"https://maps.google.com/maps/contrib/100533419529512773822\">Ed cernyar</a>'],\n",
       "    'photo_reference': 'ATtYBwI8_Momm1Yi4XX79ao36O7isjDVgRFuvV-SPK_bY8Ntyxj8xMv4RmrTqNJ0M0Vh2iT9leGqD_GnYcnT_yeMinoszx5SHtheX1pokfuxsX-kCfaZbZmowVCzhqjII0dmc-QvSCtNWkkv4faNouJfDkRUQXVYdS91kcyVmB2sQGOrgzxz',\n",
       "    'width': 3024},\n",
       "   {'height': 3024,\n",
       "    'html_attributions': ['<a href=\"https://maps.google.com/maps/contrib/113388717724158109337\">Daisy Y</a>'],\n",
       "    'photo_reference': 'ATtYBwLRwc2Z0WzHLx738z-qZGFvkVMinpW6HhfZAqtn4qA9Kb341l7CxSxIApHnKo5vuUTJ3L1OxeC2J7MHCFE2Aex5zSZDJrqIS1cbUrIT1IGn99rZWGOA6lBUqiG5zUBztk2sOxGW4DYGwtoyZ6wXaFpKhYp2TdRBUOQWBUDnsREQpzpD',\n",
       "    'width': 4032},\n",
       "   {'height': 1872,\n",
       "    'html_attributions': ['<a href=\"https://maps.google.com/maps/contrib/110668897095058225687\">Sandeep Kumar</a>'],\n",
       "    'photo_reference': 'ATtYBwLFqLTPHbUkVLU1nqcHa2V_IgfXWEUvnxdFeu7_rHK-ztjjJ57T8w9jLQdxZ_oC_981bfD14N-nDSJ1jp3Lh8T8oBsAbPsJnG7HEUDgtccACKQxTanJLOIs0SKx9Jj1w_vzMBf5t-0XBz6IdHsQUSdrvgeEDSav3-_r5pzcchwYzY-j',\n",
       "    'width': 3328},\n",
       "   {'height': 3024,\n",
       "    'html_attributions': ['<a href=\"https://maps.google.com/maps/contrib/109670435802249590581\">Teresa Tyrrell</a>'],\n",
       "    'photo_reference': 'ATtYBwI1uKE-Ybf9hD17cyGEy5329bUnQvV_F43ElKy0zYHn7lWukqUO_fGgzThMfH3-2k7L0BBC9CfcsHayO4znLZ79C6m-Upyr3YCeQ18tMJbml1cEqwJPzJykqn3KbEf8hcib8VKm_A5CGejTzzCIGAKEqw6p6GngvM2-CFFaUtQWz5b-',\n",
       "    'width': 4032}],\n",
       "  'place_id': 'ChIJqfTWVB6C0IkRSZm2PCd1JHE',\n",
       "  'rating': 4.8,\n",
       "  'reference': 'ChIJqfTWVB6C0IkRSZm2PCd1JHE',\n",
       "  'reviews': [{'author_name': 'melissa stone',\n",
       "    'author_url': 'https://www.google.com/maps/contrib/104857888078479343452/reviews',\n",
       "    'language': 'en',\n",
       "    'profile_photo_url': 'https://lh3.googleusercontent.com/a-/AOh14GjzHObpe9adoJmL0A06bBo_9GmfaY3fo0gpS9Ov3w=s128-c0x00000000-cc-rp-mo-ba4',\n",
       "    'rating': 4,\n",
       "    'relative_time_description': '6 months ago',\n",
       "    'text': 'Long drive but worth it',\n",
       "    'time': 1602703216},\n",
       "   {'author_name': 'Daisy Y',\n",
       "    'author_url': 'https://www.google.com/maps/contrib/113388717724158109337/reviews',\n",
       "    'language': 'en',\n",
       "    'profile_photo_url': 'https://lh3.googleusercontent.com/a/AATXAJwDtJHu-A-tu-bxdFTEV1kVLap5EIH03Rzi42PQ=s128-c0x00000000-cc-rp-mo',\n",
       "    'rating': 5,\n",
       "    'relative_time_description': '7 months ago',\n",
       "    'text': 'its a quick trail and view is pretty on two ends of the trail',\n",
       "    'time': 1599430674},\n",
       "   {'author_name': 'FunkyMonk44',\n",
       "    'author_url': 'https://www.google.com/maps/contrib/113466325228139947132/reviews',\n",
       "    'language': 'en',\n",
       "    'profile_photo_url': 'https://lh3.googleusercontent.com/a/AATXAJy7rlcGvL2x7bdmsQTWOUcL0H3DahTIhPhLZQLY=s128-c0x00000000-cc-rp-mo-ba5',\n",
       "    'rating': 5,\n",
       "    'relative_time_description': 'a year ago',\n",
       "    'text': 'Great place to see the natural beauty of the surrounding area. Every nature area is unique in some way or another and this one does not disappoint. There is a bridge that you can take to capture even more views. Very relaxing and scenic setting for anyone looking for a peaceful adventure.',\n",
       "    'time': 1578625230},\n",
       "   {'author_name': 'Mariena Silvestry Ramos',\n",
       "    'author_url': 'https://www.google.com/maps/contrib/107999355375407869191/reviews',\n",
       "    'language': 'en',\n",
       "    'profile_photo_url': 'https://lh3.googleusercontent.com/a-/AOh14Gh1RnK-HbUwpyOtmFIgU3tQt9zDIeZoVua9ydSfHQ=s128-c0x00000000-cc-rp-mo-ba5',\n",
       "    'rating': 5,\n",
       "    'relative_time_description': 'a year ago',\n",
       "    'text': \"Beautiful lake and hike. Easy to access from the Cornell campus. It looks absolutely breathtaking in the fall. There's a stone bridge with gorgeous views of the lake. Leads to Triphammer Falls. There's a bridge on campus (closed during the winter, I believe) to cross the falls. There are kayaks to rent too. Worth exploring for sure.\",\n",
       "    'time': 1571456379},\n",
       "   {'author_name': 'Don Brovero',\n",
       "    'author_url': 'https://www.google.com/maps/contrib/111391850469954642590/reviews',\n",
       "    'language': 'en',\n",
       "    'profile_photo_url': 'https://lh3.googleusercontent.com/a-/AOh14GgnJrQz7VU7VGCp8XqpUQKnOBp2RNAh9NyeQtmddA=s128-c0x00000000-cc-rp-mo-ba5',\n",
       "    'rating': 4,\n",
       "    'relative_time_description': '11 months ago',\n",
       "    'text': 'A nice little hike around this lake.  A lot of history, some cool natural water falls and also a neat damn. The hike is roughly 60 minutes and there is a lot to see and it is located right on the Cornell campus.',\n",
       "    'time': 1591043967}],\n",
       "  'types': ['natural_feature', 'establishment'],\n",
       "  'url': 'https://maps.google.com/?q=Beebe+Lake&ftid=0x89d0821e54d6f4a9:0x712475273cb69949',\n",
       "  'user_ratings_total': 8,\n",
       "  'utc_offset': -240},\n",
       " 'status': 'OK'}"
      ]
     },
     "execution_count": 34,
     "metadata": {},
     "output_type": "execute_result"
    }
   ],
   "source": [
    "place['result']['reviews']"
   ]
  },
  {
   "cell_type": "code",
   "execution_count": 61,
   "metadata": {},
   "outputs": [
    {
     "data": {
      "text/html": [
       "<div>\n",
       "<style scoped>\n",
       "    .dataframe tbody tr th:only-of-type {\n",
       "        vertical-align: middle;\n",
       "    }\n",
       "\n",
       "    .dataframe tbody tr th {\n",
       "        vertical-align: top;\n",
       "    }\n",
       "\n",
       "    .dataframe thead th {\n",
       "        text-align: right;\n",
       "    }\n",
       "</style>\n",
       "<table border=\"1\" class=\"dataframe\">\n",
       "  <thead>\n",
       "    <tr style=\"text-align: right;\">\n",
       "      <th></th>\n",
       "      <th>author_name</th>\n",
       "      <th>rating</th>\n",
       "      <th>text</th>\n",
       "    </tr>\n",
       "  </thead>\n",
       "  <tbody>\n",
       "    <tr>\n",
       "      <th>0</th>\n",
       "      <td>melissa stone</td>\n",
       "      <td>4</td>\n",
       "      <td>Long drive but worth it</td>\n",
       "    </tr>\n",
       "    <tr>\n",
       "      <th>1</th>\n",
       "      <td>Daisy Y</td>\n",
       "      <td>5</td>\n",
       "      <td>its a quick trail and view is pretty on two ends of the trail</td>\n",
       "    </tr>\n",
       "    <tr>\n",
       "      <th>2</th>\n",
       "      <td>FunkyMonk44</td>\n",
       "      <td>5</td>\n",
       "      <td>Great place to see the natural beauty of the surrounding area. Every nature area is unique in some way or another and this one does not disappoint. There is a bridge that you can take to capture even more views. Very relaxing and scenic setting for anyone looking for a peaceful adventure.</td>\n",
       "    </tr>\n",
       "    <tr>\n",
       "      <th>3</th>\n",
       "      <td>Mariena Silvestry Ramos</td>\n",
       "      <td>5</td>\n",
       "      <td>Beautiful lake and hike. Easy to access from the Cornell campus. It looks absolutely breathtaking in the fall. There's a stone bridge with gorgeous views of the lake. Leads to Triphammer Falls. There's a bridge on campus (closed during the winter, I believe) to cross the falls. There are kayaks to rent too. Worth exploring for sure.</td>\n",
       "    </tr>\n",
       "    <tr>\n",
       "      <th>4</th>\n",
       "      <td>Don Brovero</td>\n",
       "      <td>4</td>\n",
       "      <td>A nice little hike around this lake.  A lot of history, some cool natural water falls and also a neat damn. The hike is roughly 60 minutes and there is a lot to see and it is located right on the Cornell campus.</td>\n",
       "    </tr>\n",
       "  </tbody>\n",
       "</table>\n",
       "</div>"
      ],
      "text/plain": [
       "               author_name  rating  \\\n",
       "0            melissa stone       4   \n",
       "1                  Daisy Y       5   \n",
       "2              FunkyMonk44       5   \n",
       "3  Mariena Silvestry Ramos       5   \n",
       "4              Don Brovero       4   \n",
       "\n",
       "                                                                                                                                                                                                                                                                                                                                             text  \n",
       "0                                                                                                                                                                                                                                                                                                                         Long drive but worth it  \n",
       "1                                                                                                                                                                                                                                                                                   its a quick trail and view is pretty on two ends of the trail  \n",
       "2                                               Great place to see the natural beauty of the surrounding area. Every nature area is unique in some way or another and this one does not disappoint. There is a bridge that you can take to capture even more views. Very relaxing and scenic setting for anyone looking for a peaceful adventure.  \n",
       "3  Beautiful lake and hike. Easy to access from the Cornell campus. It looks absolutely breathtaking in the fall. There's a stone bridge with gorgeous views of the lake. Leads to Triphammer Falls. There's a bridge on campus (closed during the winter, I believe) to cross the falls. There are kayaks to rent too. Worth exploring for sure.  \n",
       "4                                                                                                                             A nice little hike around this lake.  A lot of history, some cool natural water falls and also a neat damn. The hike is roughly 60 minutes and there is a lot to see and it is located right on the Cornell campus.  "
      ]
     },
     "execution_count": 61,
     "metadata": {},
     "output_type": "execute_result"
    }
   ],
   "source": [
    "reviews_df = pd.json_normalize(place['result']['reviews'])\n",
    "reviews_df[['author_name', 'rating', 'text']]"
   ]
  },
  {
   "cell_type": "markdown",
   "metadata": {},
   "source": [
    "## Using the API Without a Wrapper"
   ]
  },
  {
   "cell_type": "code",
   "execution_count": 62,
   "metadata": {},
   "outputs": [],
   "source": [
    "import requests"
   ]
  },
  {
   "cell_type": "markdown",
   "metadata": {},
   "source": [
    "[`https://maps.googleapis.com/maps/api/place/findplacefromtext/json?input={place}&inputtype=textquery&key={api_key}`](https://developers.google.com/maps/documentation/places/web-service/search)"
   ]
  },
  {
   "cell_type": "code",
   "execution_count": null,
   "metadata": {},
   "outputs": [],
   "source": [
    "#api_key = YOUR API KEY "
   ]
  },
  {
   "cell_type": "code",
   "execution_count": 64,
   "metadata": {},
   "outputs": [],
   "source": [
    "place = \"Beebe Lake\""
   ]
  },
  {
   "cell_type": "markdown",
   "metadata": {},
   "source": [
    "[Find place id](https://developers.google.com/maps/documentation/places/web-service/search)"
   ]
  },
  {
   "cell_type": "code",
   "execution_count": 80,
   "metadata": {},
   "outputs": [
    {
     "data": {
      "text/plain": [
       "{'candidates': [{'place_id': 'ChIJqfTWVB6C0IkRSZm2PCd1JHE'}], 'status': 'OK'}"
      ]
     },
     "execution_count": 80,
     "metadata": {},
     "output_type": "execute_result"
    }
   ],
   "source": [
    "response = requests.get(f\"\"\"https://maps.googleapis.com/maps/api/place/findplacefromtext/json?input={place}&inputtype=textquery&key={api_key}\"\"\")\n",
    "response.json()"
   ]
  },
  {
   "cell_type": "markdown",
   "metadata": {},
   "source": [
    "`https://maps.googleapis.com/maps/api/place/details/json?place_id={place_id}&key={api_key}`"
   ]
  },
  {
   "cell_type": "markdown",
   "metadata": {},
   "source": [
    "[Find place details](https://developers.google.com/maps/documentation/places/web-service/details)"
   ]
  },
  {
   "cell_type": "code",
   "execution_count": 82,
   "metadata": {},
   "outputs": [],
   "source": [
    "place_id = 'ChIJqfTWVB6C0IkRSZm2PCd1JHE'"
   ]
  },
  {
   "cell_type": "code",
   "execution_count": 84,
   "metadata": {},
   "outputs": [
    {
     "data": {
      "text/html": [
       "<div>\n",
       "<style scoped>\n",
       "    .dataframe tbody tr th:only-of-type {\n",
       "        vertical-align: middle;\n",
       "    }\n",
       "\n",
       "    .dataframe tbody tr th {\n",
       "        vertical-align: top;\n",
       "    }\n",
       "\n",
       "    .dataframe thead th {\n",
       "        text-align: right;\n",
       "    }\n",
       "</style>\n",
       "<table border=\"1\" class=\"dataframe\">\n",
       "  <thead>\n",
       "    <tr style=\"text-align: right;\">\n",
       "      <th></th>\n",
       "      <th>html_attributions</th>\n",
       "      <th>status</th>\n",
       "      <th>result.address_components</th>\n",
       "      <th>result.adr_address</th>\n",
       "      <th>result.formatted_address</th>\n",
       "      <th>result.geometry.location.lat</th>\n",
       "      <th>result.geometry.location.lng</th>\n",
       "      <th>result.geometry.viewport.northeast.lat</th>\n",
       "      <th>result.geometry.viewport.northeast.lng</th>\n",
       "      <th>result.geometry.viewport.southwest.lat</th>\n",
       "      <th>result.geometry.viewport.southwest.lng</th>\n",
       "      <th>result.icon</th>\n",
       "      <th>result.name</th>\n",
       "      <th>result.photos</th>\n",
       "      <th>result.place_id</th>\n",
       "      <th>result.rating</th>\n",
       "      <th>result.reference</th>\n",
       "      <th>result.reviews</th>\n",
       "      <th>result.types</th>\n",
       "      <th>result.url</th>\n",
       "      <th>result.user_ratings_total</th>\n",
       "      <th>result.utc_offset</th>\n",
       "    </tr>\n",
       "  </thead>\n",
       "  <tbody>\n",
       "    <tr>\n",
       "      <th>0</th>\n",
       "      <td>[]</td>\n",
       "      <td>OK</td>\n",
       "      <td>[{'long_name': 'Beebe Lake', 'short_name': 'Beebe Lake', 'types': ['natural_feature', 'establishment']}, {'long_name': 'Tompkins County', 'short_name': 'Tompkins County', 'types': ['administrative_area_level_2', 'political']}, {'long_name': 'New York', 'short_name': 'NY', 'types': ['administrative_area_level_1', 'political']}, {'long_name': 'United States', 'short_name': 'US', 'types': ['country', 'political']}, {'long_name': '14850', 'short_name': '14850', 'types': ['postal_code']}]</td>\n",
       "      <td>Beebe Lake, &lt;span class=\"region\"&gt;New York&lt;/span&gt; &lt;span class=\"postal-code\"&gt;14850&lt;/span&gt;, &lt;span class=\"country-name\"&gt;USA&lt;/span&gt;</td>\n",
       "      <td>Beebe Lake, New York 14850, USA</td>\n",
       "      <td>42.45101</td>\n",
       "      <td>-76.47619</td>\n",
       "      <td>42.45258</td>\n",
       "      <td>-76.473045</td>\n",
       "      <td>42.449882</td>\n",
       "      <td>-76.479998</td>\n",
       "      <td>https://maps.gstatic.com/mapfiles/place_api/icons/v1/png_71/geocode-71.png</td>\n",
       "      <td>Beebe Lake</td>\n",
       "      <td>[{'height': 3024, 'html_attributions': ['&lt;a href=\"https://maps.google.com/maps/contrib/109578824600894016964\"&gt;Charlie Chung&lt;/a&gt;'], 'photo_reference': 'ATtYBwLUG4EMjBBuPgFWnbwam-8MigQZA4pTwzbxKC4taTp-Z48kY6TTk7HkFDuICu9C3f0OLaj8fSUlrCwxFGdU6eIhrElbxkrQuSZ-RsQ4pH-tBiLK9Ey2CWmjDPyhtBd7CWP_f31-gzz6G2jUsAJa2CkPR5GtwXsN4ZNPA9A0tJgVwTLF', 'width': 4032}, {'height': 3024, 'html_attributions': ['&lt;a href=\"https://maps.google.com/maps/contrib/113388717724158109337\"&gt;Daisy Y&lt;/a&gt;'], 'photo_reference': 'AT...</td>\n",
       "      <td>ChIJqfTWVB6C0IkRSZm2PCd1JHE</td>\n",
       "      <td>4.8</td>\n",
       "      <td>ChIJqfTWVB6C0IkRSZm2PCd1JHE</td>\n",
       "      <td>[{'author_name': 'melissa stone', 'author_url': 'https://www.google.com/maps/contrib/104857888078479343452/reviews', 'language': 'en', 'profile_photo_url': 'https://lh3.googleusercontent.com/a-/AOh14GjzHObpe9adoJmL0A06bBo_9GmfaY3fo0gpS9Ov3w=s128-c0x00000000-cc-rp-mo-ba4', 'rating': 4, 'relative_time_description': '6 months ago', 'text': 'Long drive but worth it', 'time': 1602703216}, {'author_name': 'Daisy Y', 'author_url': 'https://www.google.com/maps/contrib/113388717724158109337/reviews',...</td>\n",
       "      <td>[natural_feature, establishment]</td>\n",
       "      <td>https://maps.google.com/?q=Beebe+Lake&amp;ftid=0x89d0821e54d6f4a9:0x712475273cb69949</td>\n",
       "      <td>8</td>\n",
       "      <td>-240</td>\n",
       "    </tr>\n",
       "  </tbody>\n",
       "</table>\n",
       "</div>"
      ],
      "text/plain": [
       "  html_attributions status  \\\n",
       "0                []     OK   \n",
       "\n",
       "                                                                                                                                                                                                                                                                                                                                                                                                                                                                                  result.address_components  \\\n",
       "0  [{'long_name': 'Beebe Lake', 'short_name': 'Beebe Lake', 'types': ['natural_feature', 'establishment']}, {'long_name': 'Tompkins County', 'short_name': 'Tompkins County', 'types': ['administrative_area_level_2', 'political']}, {'long_name': 'New York', 'short_name': 'NY', 'types': ['administrative_area_level_1', 'political']}, {'long_name': 'United States', 'short_name': 'US', 'types': ['country', 'political']}, {'long_name': '14850', 'short_name': '14850', 'types': ['postal_code']}]   \n",
       "\n",
       "                                                                                                               result.adr_address  \\\n",
       "0  Beebe Lake, <span class=\"region\">New York</span> <span class=\"postal-code\">14850</span>, <span class=\"country-name\">USA</span>   \n",
       "\n",
       "          result.formatted_address  result.geometry.location.lat  \\\n",
       "0  Beebe Lake, New York 14850, USA                      42.45101   \n",
       "\n",
       "   result.geometry.location.lng  result.geometry.viewport.northeast.lat  \\\n",
       "0                     -76.47619                                42.45258   \n",
       "\n",
       "   result.geometry.viewport.northeast.lng  \\\n",
       "0                              -76.473045   \n",
       "\n",
       "   result.geometry.viewport.southwest.lat  \\\n",
       "0                               42.449882   \n",
       "\n",
       "   result.geometry.viewport.southwest.lng  \\\n",
       "0                              -76.479998   \n",
       "\n",
       "                                                                  result.icon  \\\n",
       "0  https://maps.gstatic.com/mapfiles/place_api/icons/v1/png_71/geocode-71.png   \n",
       "\n",
       "  result.name  \\\n",
       "0  Beebe Lake   \n",
       "\n",
       "                                                                                                                                                                                                                                                                                                                                                                                                                                                                                                         result.photos  \\\n",
       "0  [{'height': 3024, 'html_attributions': ['<a href=\"https://maps.google.com/maps/contrib/109578824600894016964\">Charlie Chung</a>'], 'photo_reference': 'ATtYBwLUG4EMjBBuPgFWnbwam-8MigQZA4pTwzbxKC4taTp-Z48kY6TTk7HkFDuICu9C3f0OLaj8fSUlrCwxFGdU6eIhrElbxkrQuSZ-RsQ4pH-tBiLK9Ey2CWmjDPyhtBd7CWP_f31-gzz6G2jUsAJa2CkPR5GtwXsN4ZNPA9A0tJgVwTLF', 'width': 4032}, {'height': 3024, 'html_attributions': ['<a href=\"https://maps.google.com/maps/contrib/113388717724158109337\">Daisy Y</a>'], 'photo_reference': 'AT...   \n",
       "\n",
       "               result.place_id  result.rating             result.reference  \\\n",
       "0  ChIJqfTWVB6C0IkRSZm2PCd1JHE            4.8  ChIJqfTWVB6C0IkRSZm2PCd1JHE   \n",
       "\n",
       "                                                                                                                                                                                                                                                                                                                                                                                                                                                                                                        result.reviews  \\\n",
       "0  [{'author_name': 'melissa stone', 'author_url': 'https://www.google.com/maps/contrib/104857888078479343452/reviews', 'language': 'en', 'profile_photo_url': 'https://lh3.googleusercontent.com/a-/AOh14GjzHObpe9adoJmL0A06bBo_9GmfaY3fo0gpS9Ov3w=s128-c0x00000000-cc-rp-mo-ba4', 'rating': 4, 'relative_time_description': '6 months ago', 'text': 'Long drive but worth it', 'time': 1602703216}, {'author_name': 'Daisy Y', 'author_url': 'https://www.google.com/maps/contrib/113388717724158109337/reviews',...   \n",
       "\n",
       "                       result.types  \\\n",
       "0  [natural_feature, establishment]   \n",
       "\n",
       "                                                                         result.url  \\\n",
       "0  https://maps.google.com/?q=Beebe+Lake&ftid=0x89d0821e54d6f4a9:0x712475273cb69949   \n",
       "\n",
       "   result.user_ratings_total  result.utc_offset  \n",
       "0                          8               -240  "
      ]
     },
     "execution_count": 84,
     "metadata": {},
     "output_type": "execute_result"
    }
   ],
   "source": [
    "response = requests.get(f\"\"\"https://maps.googleapis.com/maps/api/place/details/json?place_id={place_id}&key={api_key}\"\"\")\n",
    "pd.json_normalize(response.json())"
   ]
  }
 ],
 "metadata": {
  "kernelspec": {
   "display_name": "Python 3",
   "language": "python",
   "name": "python3"
  },
  "language_info": {
   "codemirror_mode": {
    "name": "ipython",
    "version": 3
   },
   "file_extension": ".py",
   "mimetype": "text/x-python",
   "name": "python",
   "nbconvert_exporter": "python",
   "pygments_lexer": "ipython3",
   "version": "3.7.6"
  }
 },
 "nbformat": 4,
 "nbformat_minor": 4
}
