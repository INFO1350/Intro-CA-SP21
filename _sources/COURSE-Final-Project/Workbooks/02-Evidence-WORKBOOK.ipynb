{
 "cells": [
  {
   "cell_type": "markdown",
   "metadata": {},
   "source": [
    "# Finding Evidence and Examples — Workbook"
   ]
  },
  {
   "cell_type": "markdown",
   "metadata": {},
   "source": [
    "*Note: You can explore this [workbook](https://mybinder.org/v2/gh/INFO1350/Intro-CA-SP21/master?urlpath=lab/tree/book/COURSE-Final-Project/Workbooks/02-Evidence-WORKBOOK.ipynb) in the cloud via Binder.*"
   ]
  },
  {
   "cell_type": "markdown",
   "metadata": {},
   "source": [
    "In this workbook, we're going to demonstrate you might find supporting evidence and illuminating examples to support your computational results.\n",
    "\n",
    "We're going to build off our previous work tracking the word \"America\" in U.S. Inaugural addresses."
   ]
  },
  {
   "cell_type": "markdown",
   "metadata": {},
   "source": [
    "![](America-Inaugural-Addresses.png)"
   ]
  },
  {
   "cell_type": "markdown",
   "metadata": {},
   "source": [
    "## \"When Did the US Start Calling Itself 'America,' Anyway?\""
   ]
  },
  {
   "cell_type": "markdown",
   "metadata": {},
   "source": [
    "Cultural analytics work often requires moving back and forth between programming, close reading, and humanistic research. \n",
    "\n",
    "On Monday, we noticed that the word \"America\" seemed to increase in Presidents' U.S. Inaugural Addresses over time. We also came up with a lot of interesting theories and hypotheses about why that might be the case.\n",
    "\n",
    "But if this were a real research project, we would probably want to go further and do some research about what scholars and experts have to say on the topic, as well. For example, in [\"When Did the US Start Calling Itself 'America,' Anyway?\"](https://www.motherjones.com/politics/2019/07/when-did-the-united-states-start-calling-itself-america-anyway/), historian Daniel Immerwahr argues:"
   ]
  },
  {
   "cell_type": "markdown",
   "metadata": {},
   "source": [
    "> It was the United States’ leap into overseas colonialism that changed things. After fighting a war with Spain in 1898, the United States annexed not only the Spanish colonies of the Philippines, Puerto Rico, and Guam, but also the non-Spanish lands of Hawai‘i and American Samoa.\n",
    "\n",
    ">This was its proud entrance into the imperial club, and the old names—the Republic, the Union, the United States—no longer seemed apt. It wasn’t a republic, it wasn’t a union (which suggests voluntary entry), and it included colonies as well as states...\n",
    "\n",
    "> **Imperialism brought *America* to the fore.**\n",
    "> - Daniel Immerwahr, [\"When Did the US Start Calling Itself 'America,' Anyway?\"](https://www.motherjones.com/politics/2019/07/when-did-the-united-states-start-calling-itself-america-anyway/)"
   ]
  },
  {
   "cell_type": "markdown",
   "metadata": {},
   "source": [
    "## Make Word Count Plot"
   ]
  },
  {
   "cell_type": "markdown",
   "metadata": {},
   "source": [
    "Import libraries and packages"
   ]
  },
  {
   "cell_type": "code",
   "execution_count": null,
   "metadata": {},
   "outputs": [],
   "source": [
    "from sklearn.feature_extraction.text import CountVectorizer\n",
    "import pandas as pd\n",
    "pd.options.display.max_rows = 200\n",
    "pd.options.display.max_columns = 200\n",
    "from pathlib import Path  \n",
    "import glob"
   ]
  },
  {
   "cell_type": "markdown",
   "metadata": {},
   "source": [
    "Set the directory filepath that contains all the text files that we want to analyze"
   ]
  },
  {
   "cell_type": "markdown",
   "metadata": {},
   "source": [
    "Use `glob` and `Path` to make a list of all the filepaths in that directory and a list of all the titles"
   ]
  },
  {
   "cell_type": "code",
   "execution_count": null,
   "metadata": {},
   "outputs": [],
   "source": [
    "directory_path = \"../../texts/history/US_Inaugural_Addresses/\"\n",
    "text_files = glob.glob(f\"{directory_path}/*.txt\")\n",
    "text_titles = [Path(text).stem for text in text_files]"
   ]
  },
  {
   "cell_type": "markdown",
   "metadata": {},
   "source": [
    "To count all the words in these Inaugural Addresses, we're going to use scikit-learn's `CountVectorizer`."
   ]
  },
  {
   "cell_type": "code",
   "execution_count": null,
   "metadata": {},
   "outputs": [],
   "source": [
    "#Initialize CountVectorizer with desired parameters\n",
    "count_vectorizer= CountVectorizer(input='filename', stop_words= 'english')\n",
    "#Plug in \"text_files\" to the initialized count_vectorizer\n",
    "word_count_vector = count_vectorizer.fit_transform(text_files)\n",
    "#Make a DataFrame out of the word count vector and sort by title\n",
    "word_count_df = pd.DataFrame(word_count_vector.toarray(), index=text_titles, columns=count_vectorizer.get_feature_names())\n",
    "word_count_df = word_count_df.sort_index()"
   ]
  },
  {
   "cell_type": "code",
   "execution_count": null,
   "metadata": {
    "scrolled": true
   },
   "outputs": [],
   "source": [
    "word_count_df[['america', 'americans']]"
   ]
  },
  {
   "cell_type": "markdown",
   "metadata": {},
   "source": [
    "Find the sum total of either \"america\" or \"americans\""
   ]
  },
  {
   "cell_type": "code",
   "execution_count": null,
   "metadata": {
    "scrolled": true
   },
   "outputs": [],
   "source": [
    "word_count_df[['america', 'americans']].sum(axis=1)"
   ]
  },
  {
   "cell_type": "markdown",
   "metadata": {},
   "source": [
    "Make a smaller DataFrame of just \"america\" and \"americans\" and add a total column"
   ]
  },
  {
   "cell_type": "code",
   "execution_count": null,
   "metadata": {},
   "outputs": [],
   "source": [
    "america_df = word_count_df[['america', 'americans']].copy()\n",
    "america_df['total'] = america_df[['america', 'americans']].sum(axis=1)"
   ]
  },
  {
   "cell_type": "code",
   "execution_count": null,
   "metadata": {
    "scrolled": true
   },
   "outputs": [],
   "source": [
    "america_df"
   ]
  },
  {
   "cell_type": "code",
   "execution_count": null,
   "metadata": {},
   "outputs": [],
   "source": [
    "import matplotlib.pyplot as plt\n",
    "\n",
    "ax = america_df.plot(y='total', figsize=(15,10), kind='bar')\n",
    "\n",
    "plt.xlabel('Inaugural Addresses', fontsize = 15)\n",
    "plt.ylabel('Occurrences of Word', fontsize = 15)\n",
    "plt.title('Frequency of \"America\" or \"American\" in Presidential Inaugural Addresses', fontsize = 25)\n",
    "\n",
    "\n",
    "plt.tight_layout()\n",
    "ax.figure.savefig('America-Inaugural-Addresses.png')"
   ]
  },
  {
   "cell_type": "markdown",
   "metadata": {},
   "source": [
    "## Make Your Own Labels\n",
    "\n",
    "If we wanted to make our own labels for the x-axis ticks, we could manually create a new list of labels."
   ]
  },
  {
   "cell_type": "code",
   "execution_count": null,
   "metadata": {},
   "outputs": [],
   "source": [
    "new_labels = ['Washington 1789',\n",
    " 'Washington 1793',\n",
    " 'Adams 1797',\n",
    " 'Jefferson 1801',\n",
    " 'Jefferson 1805',\n",
    " 'Madison 1809',\n",
    " 'Madison 1813',\n",
    " 'Monroe 1817',\n",
    " 'Monroe 1821',\n",
    " 'Adams 1825',\n",
    " 'Jackson 1829',\n",
    " 'Jackson 1833',\n",
    " 'Van Buren 1837',\n",
    " 'Harrison 1841',\n",
    " 'Polk 1845',\n",
    " 'Taylor 1849',\n",
    " 'Pierce 1853',\n",
    " 'Buchanan 1857',\n",
    " 'Lincoln 1861',\n",
    " 'Lincoln 1865',\n",
    " 'Grant 1869',\n",
    " 'Grant 1873',\n",
    " 'Hayes 1877',\n",
    " 'Garfield 1881',\n",
    " 'Cleveland 1885',\n",
    " 'Harrison 1889',\n",
    " 'Cleveland 1893',\n",
    " 'McKinley 1897',\n",
    " 'McKinley 1901',\n",
    " 'Roosevelt 1905',\n",
    " 'Taft 1909',\n",
    " 'Wilson 1913',\n",
    " 'Wilson 1917',\n",
    " 'Harding 1921',\n",
    " 'Coolidge 1925',\n",
    " 'Hoover 1929',\n",
    " 'Roosevelt 1933',\n",
    " 'Roosevelt 1937',\n",
    " 'Roosevelt 1941',\n",
    " 'Roosevelt 1945',\n",
    " 'Truman 1949',\n",
    " 'Eisenhower 1953',\n",
    " 'Eisenhower 1957',\n",
    " 'Kennedy 1961',\n",
    " 'Johnson 1965',\n",
    " 'Nixon 1969',\n",
    " 'Nixon 1973',\n",
    " 'Carter 1977',\n",
    " 'Reagan 1981',\n",
    " 'Reagan 1985',\n",
    " 'Bush 1989',\n",
    " 'Clinton 1993',\n",
    " 'Clinton 1997',\n",
    " 'Bush 2001',\n",
    " 'Bush 2005',\n",
    " 'Obama 2009',\n",
    " 'Obama 2013',\n",
    " 'Trump 2017',\n",
    " 'Biden 2021']"
   ]
  },
  {
   "cell_type": "markdown",
   "metadata": {},
   "source": [
    "Then we could add the new labels as shown below."
   ]
  },
  {
   "cell_type": "code",
   "execution_count": null,
   "metadata": {},
   "outputs": [],
   "source": [
    "ax = america_df.plot(y='total', figsize=(15,10), kind='bar')\n",
    "\n",
    "plt.xlabel('Inaugural Addresses', fontsize = 15)\n",
    "plt.ylabel('Occurrences of Word', fontsize = 15)\n",
    "plt.title('Frequency of \"America\" or \"Americans\" in Presidential Inaugural Addresses', fontsize = 25)\n",
    "\n",
    "# Add new x axis labels!\n",
    "locs, labels = plt.xticks()\n",
    "plt.xticks(locs, new_labels)\n",
    "\n",
    "plt.tight_layout()"
   ]
  },
  {
   "cell_type": "markdown",
   "metadata": {},
   "source": [
    "Just for reference, let's see how often the word \"states\" is mentioned."
   ]
  },
  {
   "cell_type": "code",
   "execution_count": null,
   "metadata": {},
   "outputs": [],
   "source": [
    "ax = word_count_df.plot(y='states', figsize=(15,10), kind='bar', color='orange')\n",
    "\n",
    "plt.xlabel('Inaugural Addresses', fontsize = 15)\n",
    "plt.ylabel('Occurrences of Word', fontsize = 15)\n",
    "plt.title('Frequency of \"States\" in Presidential Inaugural Addresses', fontsize = 25)\n",
    "\n",
    "# Add new x axis labels!\n",
    "locs, labels = plt.xticks()\n",
    "plt.xticks(locs, new_labels)\n",
    "\n",
    "plt.tight_layout()"
   ]
  },
  {
   "cell_type": "markdown",
   "metadata": {},
   "source": [
    "## Your Turn! — Find Supporting Evidence & Illuminating Examples"
   ]
  },
  {
   "cell_type": "markdown",
   "metadata": {},
   "source": [
    "Let's try to find some evidence or examples of the way \"America\" is being used in U.S. Inaugural Addresses, keeping in mind Daniel Immerwahr's argument that [\"Imperialism brought *America* to the fore\"](https://www.motherjones.com/politics/2019/07/when-did-the-united-states-start-calling-itself-america-anyway/)."
   ]
  },
  {
   "cell_type": "markdown",
   "metadata": {},
   "source": [
    "We can read through the addresses by opening them and printing them in this notebook, or we can read the Inaugural Addresesses on the web [here](https://www.presidency.ucsb.edu/documents/presidential-documents-archive-guidebook/inaugural-addresses).\n",
    "\n",
    "Here's George Bush's [2005 address](https://www.presidency.ucsb.edu/documents/inaugural-address-13), one of the addresses that uses \"America\" most often:"
   ]
  },
  {
   "cell_type": "code",
   "execution_count": null,
   "metadata": {
    "scrolled": true
   },
   "outputs": [],
   "source": [
    "print(open(\"../../texts/history/US_Inaugural_Addresses/55_bush_george_w_2005.txt\").read())"
   ]
  },
  {
   "cell_type": "markdown",
   "metadata": {},
   "source": [
    "## For Example...\n",
    "\n",
    "Find an example and complete the \"for example\" sentence(s) below:\n",
    "\n",
    "*The figure below shows that references to \"America\" and \"Americans\" seem to increase in U.S. Inaugural Addresses over time, especially increasing after 1900.*\n",
    "\n",
    "*As Daniel Immerwahr has argued, this pattern may be related to the rise of U.S. imperialism in the 20th century.*\n",
    "\n",
    "For example, in President George Bush's 2005 address, he..."
   ]
  }
 ],
 "metadata": {
  "kernelspec": {
   "display_name": "Python 3",
   "language": "python",
   "name": "python3"
  },
  "language_info": {
   "codemirror_mode": {
    "name": "ipython",
    "version": 3
   },
   "file_extension": ".py",
   "mimetype": "text/x-python",
   "name": "python",
   "nbconvert_exporter": "python",
   "pygments_lexer": "ipython3",
   "version": "3.7.6"
  }
 },
 "nbformat": 4,
 "nbformat_minor": 4
}
