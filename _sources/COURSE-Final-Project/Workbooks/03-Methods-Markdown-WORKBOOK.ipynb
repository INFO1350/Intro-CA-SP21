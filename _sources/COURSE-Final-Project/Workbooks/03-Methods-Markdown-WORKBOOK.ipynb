{
 "cells": [
  {
   "cell_type": "markdown",
   "metadata": {},
   "source": [
    "# Methods and Markdown — Workbook"
   ]
  },
  {
   "cell_type": "markdown",
   "metadata": {},
   "source": [
    "*Note: You can explore this [workbook](https://mybinder.org/v2/gh/INFO1350/Intro-CA-SP21/master?urlpath=lab/tree/book/COURSE-Final-Project/Workbooks/03-Methods-Markdown-WORKBOOK.ipynb) in the cloud via Binder.*"
   ]
  },
  {
   "cell_type": "markdown",
   "metadata": {},
   "source": [
    "In this workbook, we're going to practice documenting code with Markdown and in-code comments. We're also going to practice describing methods in a paper, essay, or blog post.\n",
    "\n",
    "We're going to build off our previous work tracking the word \"America\" in U.S. Inaugural addresses."
   ]
  },
  {
   "cell_type": "markdown",
   "metadata": {},
   "source": [
    "![](America-Inaugural-Addresses-Updated.png)"
   ]
  },
  {
   "cell_type": "markdown",
   "metadata": {},
   "source": [
    "## Your Turn! — Markdown Practice"
   ]
  },
  {
   "cell_type": "markdown",
   "metadata": {},
   "source": [
    "*Refer to the [Markdown cheatsheet](https://www.markdownguide.org/cheat-sheet/) for help*"
   ]
  },
  {
   "cell_type": "markdown",
   "metadata": {},
   "source": [
    "Complete the following steps, and then follow the rest of the instructions below: "
   ]
  },
  {
   "cell_type": "markdown",
   "metadata": {},
   "source": [
    "- First, change the cell below to a Markdown cell\n",
    "- Then make \"Counting Word Frequency\" an H2 header\n",
    "- Then make the word \"america\" bolded\n",
    "- Then make the word CountVectorizer code "
   ]
  },
  {
   "cell_type": "raw",
   "metadata": {},
   "source": [
    "Counting Word Frequency\n",
    "\n",
    "In this section, we will count the frequency of \"america\" in the U.S. Inaugural addresses by using the scikit-learn module CountVectorizer."
   ]
  },
  {
   "cell_type": "markdown",
   "metadata": {},
   "source": [
    "---\n",
    "\n",
    "Make a new Markdown cell below 👇 Then, in one sentence, describe what's happening in the code cell below 👇  by starting with the phrase \"Here we...\""
   ]
  },
  {
   "cell_type": "code",
   "execution_count": null,
   "metadata": {},
   "outputs": [],
   "source": [
    "from sklearn.feature_extraction.text import CountVectorizer\n",
    "import pandas as pd\n",
    "pd.options.display.max_rows = 200\n",
    "pd.options.display.max_columns = 200\n",
    "from pathlib import Path  \n",
    "import glob\n",
    "import matplotlib.pyplot as plt"
   ]
  },
  {
   "cell_type": "markdown",
   "metadata": {},
   "source": [
    "Here we make a list of file paths for all the U.S. Inaugural addresses and a list of titles for each address, as well."
   ]
  },
  {
   "cell_type": "code",
   "execution_count": null,
   "metadata": {},
   "outputs": [],
   "source": [
    "directory_path = \"../../texts/history/US_Inaugural_Addresses/\"\n",
    "text_files = glob.glob(f\"{directory_path}/*.txt\")\n",
    "text_titles = [Path(text).stem for text in text_files]"
   ]
  },
  {
   "cell_type": "markdown",
   "metadata": {},
   "source": [
    "Make a new Markdown cell below 👇 Then, in one or two sentences, describe what's happening in the code cell 👇  by starting with the phrase \"Here we...\""
   ]
  },
  {
   "cell_type": "code",
   "execution_count": null,
   "metadata": {},
   "outputs": [],
   "source": [
    "#Initialize CountVectorizer with desired parameters\n",
    "count_vectorizer= CountVectorizer(input='filename',\n",
    "                                  stop_words= None)\n",
    "\n",
    "#Plug in \"text_files\" to the initialized count_vectorizer\n",
    "word_count_vector = count_vectorizer.fit_transform(text_files)\n",
    "\n",
    "#Make a DataFrame out of the word count vector and sort by title\n",
    "word_count_df = pd.DataFrame(word_count_vector.toarray(), index=text_titles, columns=count_vectorizer.get_feature_names())\n",
    "word_count_df = word_count_df.sort_index()"
   ]
  },
  {
   "cell_type": "markdown",
   "metadata": {},
   "source": [
    "Here we make a bar plot of the mentions of \"america\" in each of the Inaugural Addresses."
   ]
  },
  {
   "cell_type": "code",
   "execution_count": null,
   "metadata": {},
   "outputs": [],
   "source": [
    "# Make a bar plot\n",
    "ax = word_count_df.plot(y='america',\n",
    "                    kind='bar',\n",
    "                    figsize=(15,10))\n",
    "\n",
    "# Insert a short description here\n",
    "plt.xlabel('U.S. Inaugural Addresses', fontsize = 15)\n",
    "plt.ylabel('Mentions of \"America\"', fontsize = 15)\n",
    "plt.title('Mentions of \"America\" in Presidential Inaugural Addresses',\n",
    "          fontsize = 25)\n",
    "\n",
    "# Insert a short description here\n",
    "plt.tight_layout()\n",
    "ax.figure.savefig('America-Inaugural-Addresses-Updated.png')"
   ]
  },
  {
   "cell_type": "markdown",
   "metadata": {},
   "source": [
    "## Practice Blog Post — Methodology"
   ]
  },
  {
   "cell_type": "markdown",
   "metadata": {},
   "source": [
    "Above, we practiced how to document code in a Jupyter notebook. Now let's practice how we might describe the same methods in a blog post for the same project:"
   ]
  },
  {
   "cell_type": "markdown",
   "metadata": {},
   "source": [
    "*To better understand how rhetoric about the nation evolved in Presidential Inaugural Addresses, we [**INSERT DESCRIPTION OF METHODS HERE**].*\n",
    "\n",
    "*The figure below shows that references to \"america\" increased in U.S. Inaugural Addresses over time, especially increasing after 1900.*\n",
    "\n",
    "![](America-Inaugural-Addresses-Updated.png)\n",
    "\n",
    "*As historian Daniel Immerwahr argued in [Mother Jones](https://www.motherjones.com/politics/2019/07/when-did-the-united-states-start-calling-itself-america-anyway/), this pattern may be related to the rise of U.S. imperialism in the 20th century.*\n",
    "\n",
    "*For example, President George Bush frequently used the word \"America\" in his [2005 address](https://www.presidency.ucsb.edu/documents/inaugural-address-13), which focused on how the U.S. might spread democracy around the world, implicitly referencing the ongoing \"War on Terror\" in the Middle East. \"America's influence is not unlimited,\" Bush said, \"but fortunately for the oppressed, America's influence is considerable and we will use it confidently in freedom's cause.\" In this passage, Bush directly connects America with the idea of \"influence\" or power abroad.*"
   ]
  },
  {
   "cell_type": "markdown",
   "metadata": {},
   "source": [
    "## Bonus"
   ]
  },
  {
   "cell_type": "markdown",
   "metadata": {},
   "source": [
    "To compare the frequency of one word vs another word, we can use Pandas (`kind=scatter`) or we can use the data viz library `seaborn`, which has a function `regplot` for plotting correlation as well as a line of best fit.\n",
    "\n",
    "Pick 2 words to compare below:"
   ]
  },
  {
   "cell_type": "code",
   "execution_count": null,
   "metadata": {},
   "outputs": [],
   "source": [
    "import seaborn as sns\n",
    "\n",
    "#Pick 2 words to compare\n",
    "word1 = 'america'\n",
    "word2 = 'world'\n",
    "\n",
    "# Set figure size (a different way of doing so since we're using seaborn)\n",
    "plt.figure(figsize=(12,10))\n",
    "\n",
    "#Use seaborn's regplot function https://seaborn.pydata.org/generated/seaborn.regplot.html\n",
    "ax = sns.regplot(word_count_df[word1], word_count_df[word2])\n",
    "\n",
    "plt.title(f'\"{word1}\" vs \"{word2}\" in U.S. Inaugural Addresses',\n",
    "          fontsize = 15)\n",
    "\n",
    "# Label each point by using ax.text with the x, y coordinates for each point\n",
    "# and the label name for each point, which is stored in the DataFrame's \"index\"\n",
    "for index, row in word_count_df.iterrows():\n",
    "    ax.text(row[word1], row[word2], index)"
   ]
  }
 ],
 "metadata": {
  "kernelspec": {
   "display_name": "Python 3",
   "language": "python",
   "name": "python3"
  },
  "language_info": {
   "codemirror_mode": {
    "name": "ipython",
    "version": 3
   },
   "file_extension": ".py",
   "mimetype": "text/x-python",
   "name": "python",
   "nbconvert_exporter": "python",
   "pygments_lexer": "ipython3",
   "version": "3.7.6"
  }
 },
 "nbformat": 4,
 "nbformat_minor": 4
}
