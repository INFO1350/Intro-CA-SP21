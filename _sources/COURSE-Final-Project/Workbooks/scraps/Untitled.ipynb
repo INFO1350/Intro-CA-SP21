{
 "cells": [
  {
   "cell_type": "code",
   "execution_count": null,
   "metadata": {},
   "outputs": [],
   "source": [
    "import matplotlib.pyplot as plt\n",
    "\n",
    "ax = word_count_df.plot(x='america', y='freedom',\n",
    "                        kind='scatter', s =100, figsize=(15,10))\n",
    "\n",
    "plt.xlabel('America', fontsize = 15)\n",
    "plt.ylabel('Freedom', fontsize = 15)\n",
    "plt.title('Occurences of \"America\" vs \"Freedom\" in Presidential Inaugural Addresses', fontsize = 15)\n",
    "\n",
    "for index, row in word_count_df.iterrows():\n",
    "    ax.text(row['america'], row['freedom'], index)\n",
    "\n",
    "#plt.tight_layout()\n",
    "#ax.figure.savefig('America-Inaugural-Addresses.png')"
   ]
  },
  {
   "cell_type": "code",
   "execution_count": null,
   "metadata": {},
   "outputs": [],
   "source": [
    "plt.figure(figsize=(12,10))\n",
    "\n",
    "ax = sns.regplot(word_count_df['america'], word_count_df['freedom'])\n",
    "\n",
    "plt.title('Occurences of \"America\" vs \"Freedom\" in Presidential Inaugural Addresses', fontsize = 15)\n",
    "\n",
    "for index, row in word_count_df.iterrows():\n",
    "    ax.text(row['america'], row['freedom'], index)\n"
   ]
  }
 ],
 "metadata": {
  "kernelspec": {
   "display_name": "Python 3",
   "language": "python",
   "name": "python3"
  },
  "language_info": {
   "codemirror_mode": {
    "name": "ipython",
    "version": 3
   },
   "file_extension": ".py",
   "mimetype": "text/x-python",
   "name": "python",
   "nbconvert_exporter": "python",
   "pygments_lexer": "ipython3",
   "version": "3.7.6"
  }
 },
 "nbformat": 4,
 "nbformat_minor": 4
}
