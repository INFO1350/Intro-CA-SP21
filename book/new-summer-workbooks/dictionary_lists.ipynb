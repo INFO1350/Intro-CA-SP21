{
 "cells": [
  {
   "cell_type": "markdown",
   "metadata": {},
   "source": [
    "# Dictionaries and Lists"
   ]
  },
  {
   "cell_type": "markdown",
   "metadata": {},
   "source": [
    "**Learning Objectives**\n",
    "- **Review** meaning and structure of Python's dictionaries and lists\n",
    "- **Iterate** over lists and dictionaries to find or change variables\n",
    "- **Store** information in dictionaries and lists\n",
    "- **Add** to dictionaries and lists\n",
    "- **Identify** when to use a list or a dictionary\n",
    "- **Simplify** code with list or dict comprehension"
   ]
  },
  {
   "cell_type": "markdown",
   "metadata": {},
   "source": [
    "**Note:**\n",
    "- this seems like a simple way to review objects/variables (\"What type of object is stored in this list? What type of object is the key vs. value?\")\n",
    "- is it going to get overwhelming to have such a back-and-forth between the two?\n",
    "\n",
    "**Possible dataset:**\n",
    "If beginning as json file, these are the json files used in the course:\n",
    "- genius songs: data about song title, artist, page views, cover art\n",
    "   - Not super ideal because have to scrape from genius first\n",
    "- twitter data\n",
    "    - also scraped\n",
    "    \n",
    "Need to find a simple json file since this should be an early assessment of dict/list knowledge.\n",
    "       \n",
    "   \n",
    "\n",
    "\n",
    "**Position in course**:\n",
    "After Lists & Loops parts 1 and 2 and Dictionaries (before functions)\n",
    "\n",
    "---"
   ]
  },
  {
   "cell_type": "markdown",
   "metadata": {},
   "source": [
    "## Review"
   ]
  },
  {
   "cell_type": "markdown",
   "metadata": {},
   "source": [
    "### What is a list?\n",
    "1. Introduce concept\n",
    "2. Show code\n",
    "3. Ask for simple list"
   ]
  },
  {
   "cell_type": "markdown",
   "metadata": {},
   "source": [
    "### What is a dictionary?\n",
    "1. Introduce concept\n",
    "2. Show code\n",
    "3. Ask for simple dictionary"
   ]
  },
  {
   "cell_type": "markdown",
   "metadata": {},
   "source": [
    "### Importing a json file\n",
    "- Import json file (tbd) and get it into dictionary format\n",
    "- double check that the keys/values are correct by comparing two versions"
   ]
  },
  {
   "cell_type": "markdown",
   "metadata": {},
   "source": [
    "## Dictionary section\n",
    "\n",
    "1. Getting values from a dictionary\n",
    "    - Provide an example of how to access the value, and then ask for what type of object the value is. This segues into the \"making changes\" section since we could ask to change the object type, etc. \n",
    "2. Making changes to dictionary\n",
    "    - adding\n",
    "    - removing\n",
    "    - altering values\n",
    "3. Iteration\n"
   ]
  },
  {
   "cell_type": "markdown",
   "metadata": {},
   "source": [
    "## List section\n",
    "\n",
    "1. Getting values from a list\n",
    "    - Provide an example of how to access the value, and then ask for what type of object the value is. This segues into the \"making changes\" section since we could ask to change the object type, etc. \n",
    "2. Making changes to list\n",
    "    - adding\n",
    "    - removing\n",
    "    - altering values\n",
    "3. Iteration"
   ]
  },
  {
   "cell_type": "markdown",
   "metadata": {},
   "source": [
    "### Refining Processes\n",
    "This is a section on list/dict comprehension. Should introduce the concept and then ask student to switch to/from a comprehension approach, based on examples. "
   ]
  },
  {
   "cell_type": "markdown",
   "metadata": {},
   "source": [
    "### Common list functions\n",
    "- Enumerate\n",
    "    - introduce concept\n",
    "    - provide example\n",
    "    - ask for new version\n",
    "    \n",
    "- Range\n",
    "    - introduce concept\n",
    "    - provide example\n",
    "    - ask for new version"
   ]
  },
  {
   "cell_type": "code",
   "execution_count": null,
   "metadata": {},
   "outputs": [],
   "source": []
  }
 ],
 "metadata": {
  "kernelspec": {
   "display_name": "Python 3",
   "language": "python",
   "name": "python3"
  },
  "language_info": {
   "codemirror_mode": {
    "name": "ipython",
    "version": 3
   },
   "file_extension": ".py",
   "mimetype": "text/x-python",
   "name": "python",
   "nbconvert_exporter": "python",
   "pygments_lexer": "ipython3",
   "version": "3.8.3"
  }
 },
 "nbformat": 4,
 "nbformat_minor": 4
}
