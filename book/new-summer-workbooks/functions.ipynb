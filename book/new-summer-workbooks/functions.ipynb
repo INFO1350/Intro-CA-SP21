{
 "cells": [
  {
   "cell_type": "markdown",
   "id": "5e9ef6f1",
   "metadata": {},
   "source": [
    "# Workbook: Functions\n",
    "\n",
    "---\n",
    "\n",
    "**Learning objectives:**\n",
    "1. Use functions defined by other people.\n",
    "2. Write your own functions for processing data.\n",
    "3. Identify repeated patterns that can be turned into functions in existing code.\n",
    "\n",
    "**Review:**\n",
    "- string manipulation\n",
    "- basic function syntax"
   ]
  },
  {
   "cell_type": "markdown",
   "id": "549e31e7",
   "metadata": {},
   "source": [
    "### Why do we even need functions?\n",
    "\n",
    "The main reason we write new functions is to make our code more *modular* so that different pieces can be reused in new contexts with less coding than rewriting everything from scratch. This is a similar reasoning to why we use loops instead of copying and pasting code over and over again.\n",
    "\n",
    "For example, say we've written the following code that  want to change the following code:\n",
    "\n",
    "```\n",
    "name = 'Goodman Brown'\n",
    "print(name.split(' ')[1])\n",
    "\n",
    "\n",
    "name = 'Hester Prynne'\n",
    "print(name.split(' ')[1])\n",
    "```\n",
    "\n",
    "Now say we want to change what this code does: instead of printing the last name, we want to print the first name. We can do this by modifying both print statements:\n",
    "\n",
    "```\n",
    "name = 'Goodman Brown'\n",
    "print(name.split(' ')[0])\n",
    "\n",
    "\n",
    "name = 'Hester Prynne'\n",
    "print(name.split(' ')[0])\n",
    "```\n",
    "\n",
    "However, we have to make sure to make all these changes, and make sure that we didn't make a mistake in either place. This gets tricky the longer our code is and the more repeated parts of it there are.\n",
    "\n",
    "If we rewrite our code as a function definition and two function applications, we only have to make the change once:\n",
    "\n",
    "```\n",
    "def print_part_of_name(name):\n",
    "    print(name.split(' ')[0])\n",
    "print_part_of_name('Goodman Brown')\n",
    "print_part_of_name('Hester Prynne')\n",
    "```\n",
    "\n",
    "**Exercise:** Turn existing code into functions."
   ]
  },
  {
   "cell_type": "markdown",
   "id": "deede7ca",
   "metadata": {},
   "source": [
    "### Function *definition* vs. function *application*\n",
    "\n",
    "Functions can be hard to use because they have two parts. A function *definition* is the\n",
    "\n",
    "Remember our temperature conversion function:"
   ]
  },
  {
   "cell_type": "code",
   "execution_count": 14,
   "id": "d30d1448",
   "metadata": {},
   "outputs": [],
   "source": [
    "def print_fahrenheit(celsius):\n",
    "    fahrenheit_temp = (celsius * 9/5) + 32\n",
    "    print(fahrenheit_temp)"
   ]
  },
  {
   "cell_type": "markdown",
   "id": "e853232f",
   "metadata": {},
   "source": [
    "This is just a function definition--when you run the above cell, nothing seems to happen.\n",
    "\n",
    "What's actually happening is..."
   ]
  },
  {
   "cell_type": "code",
   "execution_count": null,
   "id": "c8800361",
   "metadata": {},
   "outputs": [],
   "source": []
  },
  {
   "cell_type": "markdown",
   "id": "56afedb2",
   "metadata": {},
   "source": [
    "### Functions turn input into output\n",
    "\n",
    "Functions can help you program faster because you don't necessarily need to understand how a function is implemented. Instead, you only need to understand the relationship between what kind of data is expected and what kind of data is returned by the function. This paradigm is often referred to as treating functions as 'black-boxes' in computer science."
   ]
  },
  {
   "cell_type": "markdown",
   "id": "d01a182d",
   "metadata": {},
   "source": [
    "**Exercise:** Given list of input/output pairs, write the function."
   ]
  },
  {
   "cell_type": "markdown",
   "id": "07b36023",
   "metadata": {},
   "source": [
    "**Exercise:** Writing test cases *before* writing the function."
   ]
  },
  {
   "cell_type": "markdown",
   "id": "072a1a21",
   "metadata": {},
   "source": [
    "### Using existing functions"
   ]
  },
  {
   "cell_type": "markdown",
   "id": "69b49589",
   "metadata": {},
   "source": [
    "**Exercise:** Your goal is to extract the first letter of someone's last name. You're given the following two functions:"
   ]
  },
  {
   "cell_type": "code",
   "execution_count": 6,
   "id": "6f421e0c",
   "metadata": {},
   "outputs": [],
   "source": [
    "def get_last_name(name):\n",
    "    return name.split(' ')[1]\n",
    "\n",
    "def get_first_letter(name):\n",
    "    return name[0]"
   ]
  },
  {
   "cell_type": "markdown",
   "id": "bd516737",
   "metadata": {},
   "source": [
    "Now use these two existing functions to extract the first letter of someone's last name:"
   ]
  },
  {
   "cell_type": "code",
   "execution_count": 13,
   "id": "e474ad0e",
   "metadata": {},
   "outputs": [
    {
     "data": {
      "text/plain": [
       "'B'"
      ]
     },
     "execution_count": 13,
     "metadata": {},
     "output_type": "execute_result"
    }
   ],
   "source": [
    "name = 'Goodman Brown'\n",
    "# solution:\n",
    "get_first_letter(get_last_name(name))"
   ]
  },
  {
   "cell_type": "markdown",
   "id": "a3069fda",
   "metadata": {},
   "source": [
    "### Carving functions out of existing code\n",
    "\n",
    "The following function does many unrelated things at once, even though they are all inside one function.\n",
    "\n",
    "A good rule of thumb is to have each function do one conceptual action. For example..."
   ]
  },
  {
   "cell_type": "code",
   "execution_count": 1,
   "id": "acfe8cb9",
   "metadata": {},
   "outputs": [],
   "source": [
    "def f(data):\n",
    "    # delete some columns\n",
    "    \n",
    "    # normalize one column and turn into percentage\n",
    "    \n",
    "    # rename every row\n",
    "    \n",
    "    pass"
   ]
  },
  {
   "cell_type": "markdown",
   "id": "8e811a52",
   "metadata": {},
   "source": [
    "**Exercise:**\n",
    "In this question, your job is to adapt the above code into a new function that only *assdflakjsdhf*."
   ]
  },
  {
   "cell_type": "code",
   "execution_count": null,
   "id": "e36fd7cd",
   "metadata": {},
   "outputs": [],
   "source": [
    "# modify the function here!\n",
    "def f(data):\n",
    "    # delete some columns\n",
    "    \n",
    "    # normalize one column and turn into percentage\n",
    "    \n",
    "    # rename every row\n",
    "    \n",
    "    pass"
   ]
  },
  {
   "cell_type": "markdown",
   "id": "8a714cb8",
   "metadata": {},
   "source": [
    "### Write your own functions to analyze data"
   ]
  },
  {
   "cell_type": "code",
   "execution_count": null,
   "id": "74046b94",
   "metadata": {},
   "outputs": [],
   "source": []
  },
  {
   "cell_type": "markdown",
   "id": "8e3094b8",
   "metadata": {},
   "source": [
    "### Functions as arguments\n",
    "\n",
    "In python, functions can be used like other variables. They are not limited to being defined once and used elsewhere.\n",
    "\n",
    "**Exercise:** different ways to sort a list of tuples."
   ]
  },
  {
   "cell_type": "code",
   "execution_count": null,
   "id": "8161e326",
   "metadata": {},
   "outputs": [],
   "source": []
  }
 ],
 "metadata": {
  "kernelspec": {
   "display_name": "Python 3",
   "language": "python",
   "name": "python3"
  },
  "language_info": {
   "codemirror_mode": {
    "name": "ipython",
    "version": 3
   },
   "file_extension": ".py",
   "mimetype": "text/x-python",
   "name": "python",
   "nbconvert_exporter": "python",
   "pygments_lexer": "ipython3",
   "version": "3.9.2"
  }
 },
 "nbformat": 4,
 "nbformat_minor": 5
}
