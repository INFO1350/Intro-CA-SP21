{
 "cells": [
  {
   "cell_type": "markdown",
   "metadata": {},
   "source": [
    "# Project Management"
   ]
  },
  {
   "cell_type": "markdown",
   "metadata": {},
   "source": [
    "### Learning Objectives\n",
    "- **Run** code from other scripts through import statements\n",
    "- **Use** and **revise** other people's code\n",
    "- **Understand** packages as made up of functions\n",
    "- **Remove** unnecessary code from another person's script\n",
    "\n",
    "\n",
    "### Notes\n",
    "- could easily review a lot of topics in this section--anything that still needs to be reviewed?\n",
    "\n",
    "### Possible datasets\n",
    "- Dataset:\n",
    "    - TBD--figure this out!\n",
    "- Code: \n",
    "    - two options: could either provide code from book or find external code\n",
    "    - depends on placement in course--probably most useful if later on\n"
   ]
  },
  {
   "cell_type": "markdown",
   "metadata": {},
   "source": [
    "---"
   ]
  },
  {
   "cell_type": "markdown",
   "metadata": {},
   "source": [
    "## Review\n",
    "\n",
    "### Import statements overview\n",
    "- what are they?\n",
    "- how do they work?\n",
    "- what are commonly imported packages? \n",
    "- citation practices???\n",
    "- review of resources?\n",
    "\n",
    "### Practice using import statements\n",
    "- no functions imported\n",
    "    - try a few things with some functions--error!\n",
    "- import only some functions\n",
    "    - try a few things with some functions\n",
    "- import all functions\n",
    "    - try a few things with some functions\n",
    "\n",
    "\n",
    "\n",
    "### Using/altering someone else's code\n",
    "This section would be the main part of this project. It will do the following:\n",
    "1. Provide a goal/purpose for the project\n",
    "2. Import function from someone else's project\n",
    "3. Ask student to use the function\n",
    "4. Introduce a change in the research question--new problem of interest\n",
    "5. Student will be asked to make changes to the code\n",
    "    - emphasis on figuring out what is/isn't important\n",
    "    - both removal *and* alteration\n",
    "6. Student will then put that function into an external script\n",
    "7. Import new function"
   ]
  },
  {
   "cell_type": "code",
   "execution_count": null,
   "metadata": {},
   "outputs": [],
   "source": []
  }
 ],
 "metadata": {
  "kernelspec": {
   "display_name": "Python 3",
   "language": "python",
   "name": "python3"
  },
  "language_info": {
   "codemirror_mode": {
    "name": "ipython",
    "version": 3
   },
   "file_extension": ".py",
   "mimetype": "text/x-python",
   "name": "python",
   "nbconvert_exporter": "python",
   "pygments_lexer": "ipython3",
   "version": "3.8.3"
  }
 },
 "nbformat": 4,
 "nbformat_minor": 4
}
