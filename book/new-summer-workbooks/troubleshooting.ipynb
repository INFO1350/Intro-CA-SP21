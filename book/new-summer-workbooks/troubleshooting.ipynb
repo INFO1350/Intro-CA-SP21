{
 "cells": [
  {
   "cell_type": "markdown",
   "metadata": {},
   "source": [
    "# Troubleshooting"
   ]
  },
  {
   "cell_type": "markdown",
   "metadata": {},
   "source": [
    "**Learning Objectives**\n",
    "- **Develop** strategies for troubleshooting errors in code\n",
    "- **Identify** issues in code\n",
    "- **Revise** code to resolve error\n",
    "- **Understand** meaning of error\n",
    "- **Assess** output to determine whether or not the code is performing correctly\n",
    "\n",
    "**Note:**\n",
    "- can review simple things like types of errors, lists\n",
    "- teach try/except statement\n",
    "- maybe an encoding error? \n",
    "\n",
    "**Possible Dataset:**\n",
    "- **NYT Obituaries**\n",
    "    - can load text files with improper encoding, ask them to assess --> also reviewing encoding and importing files\n",
    "    - downside: might need more data points than just text of obituary? \n",
    "\n",
    "**Position in course**: At end of Python Basics section"
   ]
  },
  {
   "cell_type": "markdown",
   "metadata": {},
   "source": [
    "---"
   ]
  },
  {
   "cell_type": "markdown",
   "metadata": {},
   "source": [
    "## Review"
   ]
  },
  {
   "cell_type": "markdown",
   "metadata": {},
   "source": [
    "### Types of Errors\n",
    "- Syntax\n",
    "- Runtime\n",
    "- Infinite loops (good place to review loops)\n",
    "- Semantic"
   ]
  },
  {
   "cell_type": "markdown",
   "metadata": {},
   "source": [
    "### Reading the Error Message\n",
    "What in the error message is actually important?"
   ]
  },
  {
   "cell_type": "markdown",
   "metadata": {},
   "source": [
    "### Debugging Tips "
   ]
  },
  {
   "cell_type": "markdown",
   "metadata": {},
   "source": [
    "### Troubleshooting errors\n",
    "Present the error, then ask for two things:\n",
    "1. code that gives correct output\n",
    "2. explanation of error"
   ]
  },
  {
   "cell_type": "markdown",
   "metadata": {},
   "source": [
    "### Incorporating try/except statements \n",
    "1. Introduce try/except statements \n",
    "2. Provide example\n",
    "3. Ask for new try/except statement"
   ]
  },
  {
   "cell_type": "markdown",
   "metadata": {},
   "source": [
    "### Code runs, but output isn't \"right\" \n",
    "1. Provide research question/what you're looking for\n",
    "2. Give code and output that isn't actually object of interest\n",
    "3. Ask for revised version"
   ]
  },
  {
   "cell_type": "markdown",
   "metadata": {},
   "source": [
    "### Fix the code!\n",
    "- Lengthier selection with multiple mistakes, including each type of error. \n",
    "- Should also present what intended output would look like (with code hidden--not sure how to do that?) \n",
    "- This is the culminating point of the prior sections--should draw on each type of error"
   ]
  }
 ],
 "metadata": {
  "kernelspec": {
   "display_name": "Python 3",
   "language": "python",
   "name": "python3"
  },
  "language_info": {
   "codemirror_mode": {
    "name": "ipython",
    "version": 3
   },
   "file_extension": ".py",
   "mimetype": "text/x-python",
   "name": "python",
   "nbconvert_exporter": "python",
   "pygments_lexer": "ipython3",
   "version": "3.8.3"
  }
 },
 "nbformat": 4,
 "nbformat_minor": 4
}
